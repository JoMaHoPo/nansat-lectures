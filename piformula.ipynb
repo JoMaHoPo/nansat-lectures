{
 "metadata": {
  "name": "",
  "signature": "sha256:5a3decdc68123397ba0566f87b9c601b17e42a4720a8233cd6777be5987e2b41"
 },
 "nbformat": 3,
 "nbformat_minor": 0,
 "worksheets": [
  {
   "cells": [
    {
     "cell_type": "code",
     "collapsed": false,
     "input": [
      "pi = 1\n",
      "for i in range(1, 1000):\n",
      "    pi = pi * 4. * i ** 2. / (4. * i ** 2. - 1.)\n",
      "\n",
      "print pi * 2\n",
      "    \n"
     ],
     "language": "python",
     "metadata": {},
     "outputs": [
      {
       "output_type": "stream",
       "stream": "stdout",
       "text": [
        "3.14080696083\n"
       ]
      }
     ],
     "prompt_number": 5
    },
    {
     "cell_type": "code",
     "collapsed": false,
     "input": [
      "pi = 1.\n",
      "dpi = 1\n",
      "i = 1\n",
      "precision = 0.00000000001\n",
      "while dpi > precision:\n",
      "    pi2 = pi * 4. * i ** 2. / (4. * i ** 2. - 1.)\n",
      "    dpi = pi2 - pi\n",
      "    pi = pi2\n",
      "    i += 1\n",
      "\n",
      "print i, pi * 2"
     ],
     "language": "python",
     "metadata": {},
     "outputs": [
      {
       "output_type": "stream",
       "stream": "stdout",
       "text": [
        "198168 3.14158869029\n"
       ]
      }
     ],
     "prompt_number": 6
    },
    {
     "cell_type": "code",
     "collapsed": false,
     "input": [
      "import numpy as np\n",
      "\n",
      "ii = np.arange(1, 100000)\n",
      "pp = 4. * ii ** 2. / (4. * ii ** 2. - 1.) \n",
      "print 2 * pp.prod()\n"
     ],
     "language": "python",
     "metadata": {},
     "outputs": [
      {
       "output_type": "stream",
       "stream": "stdout",
       "text": [
        "3.14158479958\n"
       ]
      }
     ],
     "prompt_number": 7
    },
    {
     "cell_type": "code",
     "collapsed": false,
     "input": [],
     "language": "python",
     "metadata": {},
     "outputs": []
    }
   ],
   "metadata": {}
  }
 ]
}