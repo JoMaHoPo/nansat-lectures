{
 "metadata": {
  "name": "",
  "signature": "sha256:99f922253185b5c0e85e8cc8728e8942d81d118e0f4acd73c271801f47b37714"
 },
 "nbformat": 3,
 "nbformat_minor": 0,
 "worksheets": [
  {
   "cells": [
    {
     "cell_type": "heading",
     "level": 1,
     "metadata": {},
     "source": [
      "Intorduction to Object Oriented Programming in Python"
     ]
    },
    {
     "cell_type": "heading",
     "level": 3,
     "metadata": {},
     "source": [
      "Definition of the minimal class in two lines"
     ]
    },
    {
     "cell_type": "heading",
     "level": 4,
     "metadata": {},
     "source": [
      "Define class"
     ]
    },
    {
     "cell_type": "code",
     "collapsed": false,
     "input": [
      "class A():\n",
      "    pass"
     ],
     "language": "python",
     "metadata": {},
     "outputs": [],
     "prompt_number": 1
    },
    {
     "cell_type": "heading",
     "level": 4,
     "metadata": {},
     "source": [
      "Use class"
     ]
    },
    {
     "cell_type": "code",
     "collapsed": false,
     "input": [
      "a = A()    # create an instance of class A\n",
      "print a\n",
      "print type(a)"
     ],
     "language": "python",
     "metadata": {},
     "outputs": [
      {
       "output_type": "stream",
       "stream": "stdout",
       "text": [
        "<__main__.A instance at 0xb4e3bccc>\n",
        "<type 'instance'>\n"
       ]
      }
     ],
     "prompt_number": 2
    },
    {
     "cell_type": "markdown",
     "metadata": {},
     "source": [
      "********************"
     ]
    },
    {
     "cell_type": "heading",
     "level": 3,
     "metadata": {},
     "source": [
      "\n",
      "\n",
      "\n",
      "\n",
      "\n",
      "\n",
      "\n",
      "Definition of a class with attributes (properties)"
     ]
    },
    {
     "cell_type": "code",
     "collapsed": false,
     "input": [
      "class Human(object):\n",
      "    name = ''\n",
      "    age = 0"
     ],
     "language": "python",
     "metadata": {},
     "outputs": [],
     "prompt_number": 3
    },
    {
     "cell_type": "code",
     "collapsed": false,
     "input": [
      "human1 = Human()          # create instance of Human\n",
      "human1.name = 'Anton'     # name him    (add data to this object)\n",
      "human1.age = 34           # set the age (add data to this object)\n",
      "\n",
      "print type(human1)\n",
      "print human1.name\n",
      "print human1.age"
     ],
     "language": "python",
     "metadata": {},
     "outputs": [
      {
       "output_type": "stream",
       "stream": "stdout",
       "text": [
        "<class '__main__.Human'>\n",
        "Anton\n",
        "34\n"
       ]
      }
     ],
     "prompt_number": 4
    },
    {
     "cell_type": "markdown",
     "metadata": {},
     "source": [
      "*******************"
     ]
    },
    {
     "cell_type": "heading",
     "level": 3,
     "metadata": {},
     "source": [
      "Definition of a class with constructor"
     ]
    },
    {
     "cell_type": "code",
     "collapsed": false,
     "input": [
      "class Human(object):\n",
      "    name = ''\n",
      "    age = 0\n",
      "    \n",
      "    def __init__(self, name):\n",
      "        self.name = name"
     ],
     "language": "python",
     "metadata": {},
     "outputs": [],
     "prompt_number": 5
    },
    {
     "cell_type": "heading",
     "level": 4,
     "metadata": {},
     "source": [
      "Create a Human instance and give him a name instantly"
     ]
    },
    {
     "cell_type": "code",
     "collapsed": false,
     "input": [
      "h1 = Human('Anton')\n",
      "print h1.name\n",
      "print h1.age"
     ],
     "language": "python",
     "metadata": {},
     "outputs": [
      {
       "output_type": "stream",
       "stream": "stdout",
       "text": [
        "Anton\n",
        "0\n"
       ]
      }
     ],
     "prompt_number": 6
    },
    {
     "cell_type": "markdown",
     "metadata": {},
     "source": [
      "********************"
     ]
    },
    {
     "cell_type": "heading",
     "level": 3,
     "metadata": {},
     "source": [
      "Definition of a class with several methods"
     ]
    },
    {
     "cell_type": "code",
     "collapsed": false,
     "input": [
      "class Human(object):\n",
      "    ''' Human being '''\n",
      "    name = ''\n",
      "    age = 0\n",
      "    \n",
      "    def __init__(self, name):\n",
      "        ''' Create a Human '''\n",
      "        self.name = name\n",
      "    \n",
      "    def grow(self):\n",
      "        ''' Grow a Human by one year (in-place) '''\n",
      "        self.age += 1"
     ],
     "language": "python",
     "metadata": {},
     "outputs": [],
     "prompt_number": 7
    },
    {
     "cell_type": "heading",
     "level": 4,
     "metadata": {},
     "source": [
      "Create a Human, give him a name, grow by one year (in-place)"
     ]
    },
    {
     "cell_type": "code",
     "collapsed": false,
     "input": [
      "human1 = Human('Adam')\n",
      "human1.grow()\n",
      "\n",
      "print human1.name\n",
      "print human1.age"
     ],
     "language": "python",
     "metadata": {},
     "outputs": [
      {
       "output_type": "stream",
       "stream": "stdout",
       "text": [
        "Adam\n",
        "1\n"
       ]
      }
     ],
     "prompt_number": 8
    },
    {
     "cell_type": "markdown",
     "metadata": {},
     "source": [
      "*******************************"
     ]
    },
    {
     "cell_type": "heading",
     "level": 3,
     "metadata": {},
     "source": [
      "Create a class with Inheritance"
     ]
    },
    {
     "cell_type": "code",
     "collapsed": false,
     "input": [
      "class Teacher(Human):\n",
      "    ''' Teacher of Python '''\n",
      "\n",
      "    def give_lecture(self):\n",
      "        ''' Print lecture on the screen ''' \n",
      "        \n",
      "        lecture = 'bla bla bla'\n",
      "        print lecture"
     ],
     "language": "python",
     "metadata": {},
     "outputs": [],
     "prompt_number": 9
    },
    {
     "cell_type": "heading",
     "level": 4,
     "metadata": {},
     "source": [
      "Create an Teacher with name, grow him sufficiently, use him."
     ]
    },
    {
     "cell_type": "code",
     "collapsed": false,
     "input": [
      "t1 = Teacher('Anton')\n",
      "\n",
      "while t1.age < 34:\n",
      "    t1.grow()\n",
      "\n",
      "print t1.name\n",
      "print t1.age\n",
      "t1.give_lecture()"
     ],
     "language": "python",
     "metadata": {},
     "outputs": [
      {
       "output_type": "stream",
       "stream": "stdout",
       "text": [
        "Anton\n",
        "34\n",
        "bla bla bla\n"
       ]
      }
     ],
     "prompt_number": 10
    },
    {
     "cell_type": "markdown",
     "metadata": {},
     "source": [
      "*******"
     ]
    }
   ],
   "metadata": {}
  }
 ]
}