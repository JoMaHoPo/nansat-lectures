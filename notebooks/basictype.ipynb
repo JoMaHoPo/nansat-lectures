{
 "metadata": {
  "name": "",
  "signature": "sha256:53db311596c2a26a13d992f4fd70ccec5927c0b5c872415324ed9f291fa211ff"
 },
 "nbformat": 3,
 "nbformat_minor": 0,
 "worksheets": [
  {
   "cells": [
    {
     "cell_type": "heading",
     "level": 1,
     "metadata": {
      "slideshow": {
       "slide_type": "slide"
      }
     },
     "source": [
      "Numbers"
     ]
    },
    {
     "cell_type": "code",
     "collapsed": false,
     "input": [
      "\"\"\"\n",
      "Multi-line\n",
      "comment\n",
      "\"\"\"\n",
      "a = 7           # integer\n",
      "b = 2.9         # float\n",
      "c = 10 + 2j     # complex\n",
      "d = a + b       # sum\n",
      "e = a // b      # integer division\n",
      "f = a % 5       # remainder of the division\n",
      "g = a ** 3      # power\n",
      "print a, b, c, d, e, f, g"
     ],
     "language": "python",
     "metadata": {
      "slideshow": {
       "slide_type": "slide"
      }
     },
     "outputs": [
      {
       "output_type": "stream",
       "stream": "stdout",
       "text": [
        "7 2.9 (10+2j) 9.9 2.0 2 343\n"
       ]
      }
     ],
     "prompt_number": 9
    },
    {
     "cell_type": "code",
     "collapsed": false,
     "input": [
      "a = round(1.5)        # floor\n",
      "b = abs(-10)          # absolute value\n",
      "c = min(1, 2, 3)      # minimum value\n",
      "print a, b, c\n"
     ],
     "language": "python",
     "metadata": {},
     "outputs": [
      {
       "output_type": "stream",
       "stream": "stdout",
       "text": [
        "2.0 10 1\n"
       ]
      }
     ],
     "prompt_number": 10
    },
    {
     "cell_type": "heading",
     "level": 1,
     "metadata": {},
     "source": [
      "Create Strings"
     ]
    },
    {
     "cell_type": "code",
     "collapsed": false,
     "input": [
      "a = 'some string'\n",
      "b = \"another one\"\n",
      "d = \"without escape ' \"\n",
      "c = 'with escape \\' '\n",
      "e = ' two \\n lines '\n",
      "f = '''Several\n",
      "lines\n",
      "of text'''\n",
      "\n",
      "print a, b, c, d, e, f"
     ],
     "language": "python",
     "metadata": {},
     "outputs": [
      {
       "output_type": "stream",
       "stream": "stdout",
       "text": [
        "some string another one with escape '  without escape '   two \n",
        " lines  Several\n",
        "lines\n",
        "of text\n"
       ]
      }
     ],
     "prompt_number": 11
    },
    {
     "cell_type": "heading",
     "level": 1,
     "metadata": {},
     "source": [
      "Access / Modify strings"
     ]
    },
    {
     "cell_type": "code",
     "collapsed": false,
     "input": [
      "a = int('10')                    # convert to integer\n",
      "b = len('string')                # length of string\n",
      "\n",
      "c = 'LoremIpsumDolorSitAmet'\n",
      "\n",
      "d = 'We ' + 'can ' + 'concatenate' + '\\n'   # concatenate\n",
      "e = 'We %s format %s' % ('can', '\\n')       # format string\n",
      "f = '>=<' * 20                              # replicate\n",
      "\n",
      "print a, b, c[0], c[1], c[2:5], d, e, f"
     ],
     "language": "python",
     "metadata": {},
     "outputs": [
      {
       "output_type": "stream",
       "stream": "stdout",
       "text": [
        "10 6 L o rem We can concatenate\n",
        "We can format \n",
        ">=<>=<>=<>=<>=<>=<>=<>=<>=<>=<>=<>=<>=<>=<>=<>=<>=<>=<>=<>=<\n"
       ]
      }
     ],
     "prompt_number": 12
    },
    {
     "cell_type": "heading",
     "level": 1,
     "metadata": {},
     "source": [
      "Boolean"
     ]
    },
    {
     "cell_type": "code",
     "collapsed": false,
     "input": [
      "a = True\n",
      "b = 1 > 2\n",
      "c = 3 == 3\n",
      "d = \"abc\" > \"ABC\"\n",
      "e = 'a' in 'abcd'\n",
      "f = 'o' not in 'abcd' \n",
      "g = f is True\n",
      "print a, b, c, d, e, f, g"
     ],
     "language": "python",
     "metadata": {},
     "outputs": [
      {
       "output_type": "stream",
       "stream": "stdout",
       "text": [
        "True False True True True True True\n"
       ]
      }
     ],
     "prompt_number": 13
    },
    {
     "cell_type": "heading",
     "level": 1,
     "metadata": {},
     "source": [
      "Lists"
     ]
    },
    {
     "cell_type": "code",
     "collapsed": false,
     "input": [
      "a = [1, 2, 3.5, 4+1j, 'str5', 'str6', 7, 8, 9, 10] # create list\n",
      "b = a[0]                        # access one element\n",
      "c = a[3:5]                      # access several elements\n",
      "d = a[:5]                       # access several elements from begining\n",
      "e = a[5:]                       # access several elements until end\n",
      "f = a[:]                        # access all elements\n",
      "g = a[:-2]                      # access several elements from begining\n",
      "print a\n",
      "print b\n",
      "print c\n",
      "print d\n",
      "print e\n",
      "print f\n",
      "print g"
     ],
     "language": "python",
     "metadata": {},
     "outputs": [
      {
       "output_type": "stream",
       "stream": "stdout",
       "text": [
        "[1, 2, 3.5, (4+1j), 'str5', 'str6', 7, 8, 9, 10]\n",
        "1\n",
        "[(4+1j), 'str5']\n",
        "[1, 2, 3.5, (4+1j), 'str5']\n",
        "['str6', 7, 8, 9, 10]\n",
        "[1, 2, 3.5, (4+1j), 'str5', 'str6', 7, 8, 9, 10]\n",
        "[1, 2, 3.5, (4+1j), 'str5', 'str6', 7, 8]\n"
       ]
      }
     ],
     "prompt_number": 36
    },
    {
     "cell_type": "raw",
     "metadata": {},
     "source": [
      " +---+---+---+---+---+---+\n",
      " | P | y | t | h | o | n |\n",
      " +---+---+---+---+---+---+\n",
      " 0   1   2   3   4   5   6\n",
      "-6  -5  -4  -3  -2  -1"
     ]
    },
    {
     "cell_type": "heading",
     "level": 1,
     "metadata": {},
     "source": [
      "Operations with lists"
     ]
    },
    {
     "cell_type": "code",
     "collapsed": false,
     "input": [
      "a = [0, 1, 2, 3.5, 4+1j, 'str5', 'str6', 7, 8, 9]\n",
      "a[9] = 11                  # replace one element\n",
      "a[0:2] = ['0', '1']        # replace several elements\n",
      "del a[8]                   # remove first element\n",
      "b = a[:4] + a[4:]          # concatenate two lists\n",
      "c = [[1, 2, 3], [4, 5, 6]] # create nested list\n",
      "\n",
      "c = [[1, 2, 3],            # nested list\n",
      "     [4, 5, 6]]            # on multiple lines\n",
      "\n",
      "d = [a[0:4], a[4:]]        # nested list from two sub-lists\n",
      "e = [1, 2, 3] * 3          # replicate list\n",
      "f = [[1, 2, 3]] * 3          # replicate list\n",
      "\n",
      "print a\n",
      "print b\n",
      "print c\n",
      "print d\n",
      "print e\n",
      "print f"
     ],
     "language": "python",
     "metadata": {},
     "outputs": [
      {
       "output_type": "stream",
       "stream": "stdout",
       "text": [
        "['0', '1', 2, 3.5, (4+1j), 'str5', 'str6', 7, 11]\n",
        "['0', '1', 2, 3.5, (4+1j), 'str5', 'str6', 7, 11]\n",
        "[[1, 2, 3], [4, 5, 6]]\n",
        "[['0', '1', 2, 3.5], [(4+1j), 'str5', 'str6', 7, 11]]\n",
        "[1, 2, 3, 1, 2, 3, 1, 2, 3]\n",
        "[[1, 2, 3], [1, 2, 3], [1, 2, 3]]\n"
       ]
      }
     ],
     "prompt_number": 38
    },
    {
     "cell_type": "heading",
     "level": 1,
     "metadata": {},
     "source": [
      "Tuples"
     ]
    },
    {
     "cell_type": "code",
     "collapsed": false,
     "input": [
      "a = (1,2,3)          # create tuple\n",
      "b = 1,2,3            # create tuple\n",
      "c, d, e = 1, 2, 3    # multiple assignment\n",
      "f, g = c, d          # multiple assignment\n",
      "f, g = g, f          # switch values\n",
      "print a,b,c,d,e,f,g"
     ],
     "language": "python",
     "metadata": {},
     "outputs": [
      {
       "output_type": "stream",
       "stream": "stdout",
       "text": [
        "(1, 2, 3) (1, 2, 3) 1 2 3 2 1\n"
       ]
      }
     ],
     "prompt_number": 16
    },
    {
     "cell_type": "markdown",
     "metadata": {},
     "source": [
      "\n",
      "# Dictionaries"
     ]
    },
    {
     "cell_type": "code",
     "collapsed": false,
     "input": [
      "a = {1: 123, 2.5: 'text', 'key3': [1,2,3]} # define dictionary\n",
      "\n",
      "a = {    1 : 123,           # define dictionary \n",
      "       2.5 : 'text',        # on multiple lines\n",
      "     '\u043c': [1,2,3]}\n",
      "\n",
      "b = a[1]                    # acces by key\n",
      "c = a[2.5]                  # acces by key\n",
      "d = a['\u043c']               # acces by key\n",
      "e = {}                      # create empty dict\n",
      "e['new key'] = 'new value'  # add key:value to the dict\n",
      "e[0] = 'new value'  # add key:value to the dict\n",
      "\n",
      "print a\n",
      "print b\n",
      "print c\n",
      "print d\n",
      "print e\n",
      "print e[0]\n"
     ],
     "language": "python",
     "metadata": {},
     "outputs": [
      {
       "output_type": "stream",
       "stream": "stdout",
       "text": [
        "{2.5: 'text', 1: 123, '\\xd0\\xbc': [1, 2, 3]}\n",
        "123\n",
        "text\n",
        "[1, 2, 3]\n",
        "{0: 'new value', 'new key': 'new value'}\n",
        "new value\n"
       ]
      },
      {
       "metadata": {},
       "output_type": "pyout",
       "prompt_number": 44,
       "text": [
        "True"
       ]
      }
     ],
     "prompt_number": 44
    },
    {
     "cell_type": "markdown",
     "metadata": {},
     "source": [
      "# Objects\n",
      "## Everything is object\n",
      " * Object is a container for data and functions\n",
      " * Data is called *value* (or *attributes*)\n",
      " * Functions are called *methods*"
     ]
    },
    {
     "cell_type": "code",
     "collapsed": false,
     "input": [
      "a = '   LoremIpsumDolorSitAmet   '\n",
      "c = a.strip()\n",
      "\n",
      "d = [0, 2, 1, 5, 4]\n",
      "d.sort()\n",
      "print a\n",
      "print c\n",
      "print d"
     ],
     "language": "python",
     "metadata": {},
     "outputs": [
      {
       "output_type": "stream",
       "stream": "stdout",
       "text": [
        "   LoremIpsumDolorSitAmet   \n",
        "LoremIpsumDolorSitAmet\n",
        "[0, 1, 2, 4, 5]\n"
       ]
      }
     ],
     "prompt_number": 46
    },
    {
     "cell_type": "heading",
     "level": 1,
     "metadata": {},
     "source": [
      "Important methods of 'string'"
     ]
    },
    {
     "cell_type": "code",
     "collapsed": false,
     "input": [
      "# STRINGS\n",
      "a = '   LaremIpsumDalarSitAmet   '\n",
      "b = a.replace('a','o')\n",
      "c = b.find('Lo')\n",
      "d = '_'.join(['Larem', 'Ipsum', 'Dalar', 'Sit', 'Amet'])\n",
      "                                  # a = '_'; a.join(...)\n",
      "e = d.split('_')\n",
      "f = a.replace('a', 'o').strip().split('m')\n",
      "\n",
      "g = 'New {0} {1} {good}!'.format('style', 'is', good='better') \n",
      "\n",
      "print a, '\\n', b, '\\n', c, '\\n', d, '\\n', e, '\\n', f, '\\n', g"
     ],
     "language": "python",
     "metadata": {},
     "outputs": [
      {
       "output_type": "stream",
       "stream": "stdout",
       "text": [
        "   LaremIpsumDalarSitAmet    \n",
        "   LoremIpsumDolorSitAmet    \n",
        "3 \n",
        "Larem_Ipsum_Dalar_Sit_Amet \n",
        "['Larem', 'Ipsum', 'Dalar', 'Sit', 'Amet'] \n",
        "['Lore', 'Ipsu', 'DolorSitA', 'et'] \n",
        "New style is better!\n"
       ]
      }
     ],
     "prompt_number": 47
    },
    {
     "cell_type": "heading",
     "level": 1,
     "metadata": {},
     "source": [
      "Importnat methods of 'list'"
     ]
    },
    {
     "cell_type": "code",
     "collapsed": false,
     "input": [
      "a = [0, 1, 2, 3, 4, 5, 6, 7, 8]\n",
      "a.append(9)\n",
      "a.extend([10,11])\n",
      "a.insert(2, 200)\n",
      "b = a.pop(3)\n",
      "a.remove(5)\n",
      "a.sort()\n",
      "a.reverse()\n",
      "print a, b"
     ],
     "language": "python",
     "metadata": {},
     "outputs": [
      {
       "output_type": "stream",
       "stream": "stdout",
       "text": [
        "[200, 11, 10, 9, 8, 7, 6, 4, 3, 1, 0] 2\n"
       ]
      }
     ],
     "prompt_number": 20
    },
    {
     "cell_type": "heading",
     "level": 1,
     "metadata": {},
     "source": [
      "Importnat methods of 'dict'"
     ]
    },
    {
     "cell_type": "code",
     "collapsed": false,
     "input": [
      "a = {1: 123, 2.5: 'text', 'key3': [1,2,3]}\n",
      "b = a.get(2, 'default')\n",
      "c = a.pop('key3')\n",
      "d = 2.5 in a\n",
      "e = a.keys()\n",
      "f = a.values()\n",
      "print a, b, c, d, e, f"
     ],
     "language": "python",
     "metadata": {},
     "outputs": [
      {
       "output_type": "stream",
       "stream": "stdout",
       "text": [
        "{2.5: 'text', 1: 123} default [1, 2, 3] True [2.5, 1] ['text', 123]\n"
       ]
      }
     ],
     "prompt_number": 48
    },
    {
     "cell_type": "code",
     "collapsed": false,
     "input": [
      "a[1] = 100\n",
      "print f "
     ],
     "language": "python",
     "metadata": {},
     "outputs": [
      {
       "output_type": "stream",
       "stream": "stdout",
       "text": [
        "['text', 123]\n"
       ]
      }
     ],
     "prompt_number": 49
    },
    {
     "cell_type": "markdown",
     "metadata": {},
     "source": [
      "# Pointers\n",
      "## Everything is a pointer to object\n",
      "* Data is stored in computer memory (RAM)\n",
      "* *Pointer* is address of the object in memory\n",
      "* Several pointers may point to the same object"
     ]
    },
    {
     "cell_type": "code",
     "collapsed": false,
     "input": [
      "a = [0, 1, 2]\n",
      "b = a\n",
      "b[0] = 10\n",
      "print a"
     ],
     "language": "python",
     "metadata": {},
     "outputs": [
      {
       "output_type": "stream",
       "stream": "stdout",
       "text": [
        "[10, 1, 2]\n"
       ]
      }
     ],
     "prompt_number": 23
    },
    {
     "cell_type": "code",
     "collapsed": false,
     "input": [
      "b = list(a)\n",
      "d = tuple(a)\n",
      "print b, d \n"
     ],
     "language": "python",
     "metadata": {},
     "outputs": [
      {
       "output_type": "stream",
       "stream": "stdout",
       "text": [
        "[10, 1, 2] (10, 1, 2)\n"
       ]
      }
     ],
     "prompt_number": 27
    },
    {
     "cell_type": "code",
     "collapsed": false,
     "input": [
      "a = [1,2,3]\n",
      "a[0] = 10\n",
      "b = (1,2,3)\n",
      "#b[0] = 10\n",
      "print a"
     ],
     "language": "python",
     "metadata": {},
     "outputs": [
      {
       "output_type": "stream",
       "stream": "stdout",
       "text": [
        "[10, 2, 3]\n"
       ]
      }
     ],
     "prompt_number": 52
    },
    {
     "cell_type": "markdown",
     "metadata": {},
     "source": [
      "1,2,3# Functions are also <s>objects</s> pointers to objects"
     ]
    },
    {
     "cell_type": "code",
     "collapsed": false,
     "input": [
      "a = len               # let <a> be the len() function\n",
      "print a, a('some text')"
     ],
     "language": "python",
     "metadata": {},
     "outputs": [
      {
       "output_type": "stream",
       "stream": "stdout",
       "text": [
        "<built-in function len> 9\n"
       ]
      }
     ],
     "prompt_number": 28
    },
    {
     "cell_type": "code",
     "collapsed": false,
     "input": [
      "a = [0, 2, 3, 1]\n",
      "b = a.sort          # let <b> be method of the list\n",
      "a.append(-1)        # modify the list\n",
      "b()                 # call the method, equals to a.sort()\n",
      "print a"
     ],
     "language": "python",
     "metadata": {},
     "outputs": [
      {
       "output_type": "stream",
       "stream": "stdout",
       "text": [
        "[-1, 0, 1, 2, 3]\n"
       ]
      }
     ],
     "prompt_number": 29
    },
    {
     "cell_type": "heading",
     "level": 1,
     "metadata": {},
     "source": [
      "Other useful built-in types"
     ]
    },
    {
     "cell_type": "code",
     "collapsed": false,
     "input": [
      "a = set([1,2,3,4,1,2,3,4])  # SET: unordered collection\n",
      "b = set([3,4,5,6,3,4,5])    #      of distinct objects (unique)\n",
      "c = a | b                   # join\n",
      "d = a & b                   # intersect\n",
      "print a, b, c, d"
     ],
     "language": "python",
     "metadata": {},
     "outputs": [
      {
       "output_type": "stream",
       "stream": "stdout",
       "text": [
        "set([1, 2, 3, 4]) set([3, 4, 5, 6]) set([1, 2, 3, 4, 5, 6]) set([3, 4])\n"
       ]
      }
     ],
     "prompt_number": 30
    },
    {
     "cell_type": "code",
     "collapsed": false,
     "input": [
      "f = open('test.txt', 'w')                    # open FILE\n",
      "a = f.read()\n",
      "f.write('the first line\\nthe second line\\n') # write text\n",
      "f.close()                                    # close\n",
      "f = open('test.txt')                         # open again\n",
      "print f.readlines()                          # read lines as list"
     ],
     "language": "python",
     "metadata": {},
     "outputs": [
      {
       "ename": "IOError",
       "evalue": "File not open for reading",
       "output_type": "pyerr",
       "traceback": [
        "\u001b[1;31m---------------------------------------------------------------------------\u001b[0m\n\u001b[1;31mIOError\u001b[0m                                   Traceback (most recent call last)",
        "\u001b[1;32m<ipython-input-31-e56376b844e8>\u001b[0m in \u001b[0;36m<module>\u001b[1;34m()\u001b[0m\n\u001b[0;32m      1\u001b[0m \u001b[0mf\u001b[0m \u001b[1;33m=\u001b[0m \u001b[0mopen\u001b[0m\u001b[1;33m(\u001b[0m\u001b[1;34m'test.txt'\u001b[0m\u001b[1;33m,\u001b[0m \u001b[1;34m'w'\u001b[0m\u001b[1;33m)\u001b[0m                    \u001b[1;31m# open FILE\u001b[0m\u001b[1;33m\u001b[0m\u001b[0m\n\u001b[1;32m----> 2\u001b[1;33m \u001b[0ma\u001b[0m \u001b[1;33m=\u001b[0m \u001b[0mf\u001b[0m\u001b[1;33m.\u001b[0m\u001b[0mread\u001b[0m\u001b[1;33m(\u001b[0m\u001b[1;33m)\u001b[0m\u001b[1;33m\u001b[0m\u001b[0m\n\u001b[0m\u001b[0;32m      3\u001b[0m \u001b[0mf\u001b[0m\u001b[1;33m.\u001b[0m\u001b[0mwrite\u001b[0m\u001b[1;33m(\u001b[0m\u001b[1;34m'the first line\\nthe second line\\n'\u001b[0m\u001b[1;33m)\u001b[0m \u001b[1;31m# write text\u001b[0m\u001b[1;33m\u001b[0m\u001b[0m\n\u001b[0;32m      4\u001b[0m \u001b[0mf\u001b[0m\u001b[1;33m.\u001b[0m\u001b[0mclose\u001b[0m\u001b[1;33m(\u001b[0m\u001b[1;33m)\u001b[0m                                    \u001b[1;31m# close\u001b[0m\u001b[1;33m\u001b[0m\u001b[0m\n\u001b[0;32m      5\u001b[0m \u001b[0mf\u001b[0m \u001b[1;33m=\u001b[0m \u001b[0mopen\u001b[0m\u001b[1;33m(\u001b[0m\u001b[1;34m'test.txt'\u001b[0m\u001b[1;33m)\u001b[0m                         \u001b[1;31m# open again\u001b[0m\u001b[1;33m\u001b[0m\u001b[0m\n",
        "\u001b[1;31mIOError\u001b[0m: File not open for reading"
       ]
      }
     ],
     "prompt_number": 31
    },
    {
     "cell_type": "code",
     "collapsed": false,
     "input": [
      "# RANGE: list generated on-the-fly\n",
      "r1 = range(5)         # number of elements\n",
      "r2 = range(3, 15)     # first and last\n",
      "r3 = range(3, 15, 2)  # first, last and step\n",
      "a = list(r1)          # convert to list\n",
      "b = r1[2]             # access element\n",
      "c = r3[3:]            # get sub-range\n",
      "d = len(r3)           # length of range\n",
      "print r1, a, b, c, d"
     ],
     "language": "python",
     "metadata": {},
     "outputs": [
      {
       "output_type": "stream",
       "stream": "stdout",
       "text": [
        "[0, 1, 2, 3, 4] [0, 1, 2, 3, 4] 2 [9, 11, 13] 6\n"
       ]
      }
     ],
     "prompt_number": 32
    },
    {
     "cell_type": "heading",
     "level": 1,
     "metadata": {},
     "source": [
      "Modules, packages and scripts"
     ]
    },
    {
     "cell_type": "raw",
     "metadata": {},
     "source": [
      "+---------------------------------------+\n",
      "|  Python                               |\n",
      "|                                       |\n",
      "|  +---------------------------------+  |\n",
      "|  | Packages (os)                   |  |\n",
      "|  |                                 |  |\n",
      "|  |  +---------------------------+  |  |\n",
      "|  |  | Modules (path)            |  |  |\n",
      "|  |  |                           |  |  |\n",
      "|  |  |  +---------------------+  |  |  |\n",
      "|  |  |  | Functions (exists)  |  |  |  |\n",
      "|  |  |  |                     |  |  |  |\n",
      "|  |  |  +---------------------+  |  |  |\n",
      "|  |  +---------------------------+  |  |\n",
      "|  +---------------------------------+  |\n",
      "+---------------------------------------+"
     ]
    },
    {
     "cell_type": "code",
     "collapsed": false,
     "input": [
      "import os                            # import entire package\n",
      "a = os.path.exists('some_file.txt')\n",
      "\n",
      "import os.path                       # import module\n",
      "a = os.path.exists('some_file.txt')\n",
      "\n",
      "from os import path                  # import module\n",
      "a = path.exists('some_file.txt')\n",
      "\n",
      "from os.path import *           # import function\n",
      "a = exists('some_file.txt')\n",
      "\n",
      "from os.path import exists as xsts   # import function with nickname\n",
      "a = xsts('some_file.txt')"
     ],
     "language": "python",
     "metadata": {},
     "outputs": [],
     "prompt_number": 33
    },
    {
     "cell_type": "code",
     "collapsed": false,
     "input": [],
     "language": "python",
     "metadata": {},
     "outputs": []
    }
   ],
   "metadata": {}
  }
 ]
}