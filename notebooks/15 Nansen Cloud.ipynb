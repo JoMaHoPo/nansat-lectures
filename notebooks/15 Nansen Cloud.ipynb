{
 "cells": [
  {
   "cell_type": "markdown",
   "metadata": {},
   "source": [
    "# NansenCloud - GeoDjango framework for Satellite Data Management\n",
    "\n",
    "\n",
    "#### First of all we need to initialize Django to work. Let's do some 'magic'"
   ]
  },
  {
   "cell_type": "code",
   "execution_count": null,
   "metadata": {
    "collapsed": false
   },
   "outputs": [],
   "source": [
    "import matplotlib.pyplot as plt\n",
    "%matplotlib inline\n",
    "\n",
    "import os, sys\n",
    "print sys.path.append('/home/vagrant/py/nansat/')\n",
    "print sys.path.append('/home/vagrant/py/nansen-cloud/')\n",
    "os.environ.setdefault(\"DJANGO_SETTINGS_MODULE\", \"nansencloud.settings\")\n",
    "import django\n",
    "django.setup()\n",
    "\n",
    "from cat.models import Image\n",
    "\n",
    "%whos"
   ]
  },
  {
   "cell_type": "markdown",
   "metadata": {},
   "source": [
    "#### Now we can use the model Image to get info about available data"
   ]
  },
  {
   "cell_type": "code",
   "execution_count": null,
   "metadata": {
    "collapsed": false
   },
   "outputs": [],
   "source": [
    "# find all images\n",
    "images = Image.objects.all()\n",
    "print images"
   ]
  },
  {
   "cell_type": "code",
   "execution_count": null,
   "metadata": {
    "collapsed": false
   },
   "outputs": [],
   "source": [
    "# get some information about the first image \n",
    "img0 = images[0]\n",
    "print img0.sourcefile.name\n",
    "print img0.sourcefile.path.address\n",
    "print img0.sensor.name\n",
    "print img0.satellite.name\n",
    "print img0.border"
   ]
  },
  {
   "cell_type": "markdown",
   "metadata": {},
   "source": [
    "## Structure of NansenCloud\n",
    "### 1. Cat (app for catalog)\n",
    "#### 1.1 Image\n",
    "Any image in NansenCloud\n",
    "* sourcefile : SourceFile\n",
    "* status : Status\n",
    "* sensor : Sensor\n",
    "* satellite : Satellite\n",
    "* start_date : DateTimeField\n",
    "* stop_date : DateTimeField\n",
    "* mapper = CharField\n",
    "* border = PolygonField\n",
    "\n",
    "#### 1.2 SourceFile\n",
    "File with original data\n",
    "* name : CharField\n",
    "* path : Location\n",
    "* urls : Location(s)\n",
    "\n",
    "#### 1.3 Location\n",
    "Path of the file\n",
    "* address : CharField\n",
    "* type : [FS, FTP, HTTP, OpenDAP, SSH]\n",
    "\n",
    "#### 1.4 Sensor\n",
    "Name of the sensor\n",
    "* name : CharField\n",
    "\n",
    "#### 1.5 Satellite\n",
    "Name of the satellite\n",
    "* name : CharField\n",
    "\n",
    "#### 1.6 Status\n",
    "Bad or good status of opening\n",
    "* status : [BAD_STATUS, GOOD_STATUS]\n",
    "\n",
    "#### 1.7 Search\n",
    "Web-search criteria\n",
    "* sdate : DateTimeField\n",
    "* date0 : DateTimeField\n",
    "* date1 : DateTimeField\n",
    "* status : Status\n",
    "* satellite : Satellite\n",
    "* sensor : Sensor\n",
    "* polygon : PolygonField\n",
    "\n",
    "### 2. Proc (app for operational processing)\n",
    "\n",
    "#### 2.1 MERISWeb\n",
    "Processing of Meris data for WEB\n",
    "* image : Image\n",
    "* resolution : CharField\n",
    "* level : IntegerField\n",
    "* product : Product\n",
    "* daily : BooleanField\n",
    "* chain : Chain\n",
    "\n",
    "#### 2.2 SARWeb\n",
    "Processing of Meris data for WEB\n",
    "* polarizations : [Polarizations]\n",
    "* quicklooks : [Products]\n",
    "* chain : Chain\n",
    "\n",
    "#### 2.3 Chain\n",
    "Operational processing parameters\n",
    "* name : CharField\n",
    "* webname : CharField\n",
    "* description : CharField\n",
    "\n",
    "#### 2.4 Product\n",
    "Online product\n",
    "* image : Image\n",
    "* standard_name\n",
    "* long_name\n",
    "* minimum\n",
    "* maximum"
   ]
  },
  {
   "cell_type": "markdown",
   "metadata": {},
   "source": [
    "## More advanced usage of NansenCloud: search for images"
   ]
  },
  {
   "cell_type": "code",
   "execution_count": null,
   "metadata": {
    "collapsed": false
   },
   "outputs": [],
   "source": [
    "# Search for image taken later than 3 March 2012\n",
    "#     double underscore (__) is used to join operators\n",
    "#     gte means 'greater than or equal'\n",
    "im = Image.objects.filter(start_date__gte='2012-03-03 00:00')\n",
    "print im"
   ]
  },
  {
   "cell_type": "code",
   "execution_count": null,
   "metadata": {
    "collapsed": false
   },
   "outputs": [],
   "source": [
    "# Search for images overalapping a polygon\n",
    "from django.contrib.gis.geos import Polygon\n",
    "# first, create a polygon for searching\n",
    "p = Polygon(((60, 5), (90, 5), (90, 25), (60, 25), (60, 5)))\n",
    "# perform spatial search \n",
    "im = Image.objects.filter(border__intersects=p)[0]\n",
    "print im"
   ]
  },
  {
   "cell_type": "markdown",
   "metadata": {},
   "source": [
    "### Finally, get data"
   ]
  },
  {
   "cell_type": "code",
   "execution_count": null,
   "metadata": {
    "collapsed": false
   },
   "outputs": [],
   "source": [
    "n = im.get_nansat()\n",
    "n.resize(0.1)\n",
    "sigma0_water_HH = n['sigma0_water_HH']"
   ]
  },
  {
   "cell_type": "code",
   "execution_count": null,
   "metadata": {
    "collapsed": false
   },
   "outputs": [],
   "source": [
    "import numpy as np\n",
    "plt.figure(figsize=(15,15))\n",
    "plt.imshow(sigma0_water_HH, vmin=0, vmax=0.08, cmap='gray')\n",
    "plt.colorbar()\n",
    "plt.show()"
   ]
  },
  {
   "cell_type": "code",
   "execution_count": null,
   "metadata": {
    "collapsed": false
   },
   "outputs": [],
   "source": []
  }
 ],
 "metadata": {
  "kernelspec": {
   "display_name": "Python 2",
   "language": "python",
   "name": "python2"
  },
  "language_info": {
   "codemirror_mode": {
    "name": "ipython",
    "version": 2
   },
   "file_extension": ".py",
   "mimetype": "text/x-python",
   "name": "python",
   "nbconvert_exporter": "python",
   "pygments_lexer": "ipython2",
   "version": "2.7.6"
  }
 },
 "nbformat": 4,
 "nbformat_minor": 0
}
