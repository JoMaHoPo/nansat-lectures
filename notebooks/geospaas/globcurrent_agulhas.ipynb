{
 "cells": [
  {
   "cell_type": "code",
   "execution_count": 1,
   "metadata": {
    "collapsed": false,
    "deletable": true,
    "editable": true
   },
   "outputs": [],
   "source": [
    "import os\n",
    "import sys\n",
    "\n",
    "### INIT DJANGO-GEO-SPAAS\n",
    "src_dir = os.getcwd().split('nansat-lectures')[0]\n",
    "os.environ['DJANGO_SETTINGS_MODULE'] = 'project.settings'\n",
    "sys.path.insert(0, os.path.join(src_dir, 'django-geo-spaas', 'project'))\n",
    "import django\n",
    "django.setup()"
   ]
  },
  {
   "cell_type": "code",
   "execution_count": 2,
   "metadata": {
    "collapsed": false,
    "deletable": true,
    "editable": true
   },
   "outputs": [],
   "source": [
    "import matplotlib.pyplot as plt\n",
    "import numpy as np\n",
    "\n",
    "from django.utils import timezone\n",
    "from django.contrib.gis.geos import WKTReader\n",
    "\n",
    "from nansat import Nansat, Domain, NSR\n",
    "from geospaas.catalog.models import Dataset, DatasetURI\n",
    "%matplotlib notebook"
   ]
  },
  {
   "cell_type": "code",
   "execution_count": 3,
   "metadata": {
    "collapsed": false,
    "deletable": true,
    "editable": true
   },
   "outputs": [],
   "source": [
    "# find GlobCurrent data\n",
    "gc_datasets = Dataset.objects.filter(entry_title__contains='globcurrent',\n",
    "                                 time_coverage_start__gt=timezone.datetime(2014,1,1,tzinfo=timezone.utc))"
   ]
  },
  {
   "cell_type": "code",
   "execution_count": 4,
   "metadata": {
    "collapsed": false,
    "deletable": true,
    "editable": true
   },
   "outputs": [
    {
     "ename": "OptionError",
     "evalue": "Cannot open http://www.ifremer.fr/opendap/cerdap1/globcurrent/v2.0/global_012_deg/geostrophic/2014/002/20140102000000-GLOBCURRENT-L4-CURgeo_0m-ALT_OI-v02.0-fv01.0.nc",
     "output_type": "error",
     "traceback": [
      "\u001b[0;31m\u001b[0m",
      "\u001b[0;31mOptionError\u001b[0mTraceback (most recent call last)",
      "\u001b[0;32m<ipython-input-4-fd0964a1f114>\u001b[0m in \u001b[0;36m<module>\u001b[0;34m()\u001b[0m\n\u001b[0;32m----> 1\u001b[0;31m \u001b[0mn\u001b[0m \u001b[0;34m=\u001b[0m \u001b[0mNansat\u001b[0m\u001b[0;34m(\u001b[0m\u001b[0mgc_datasets\u001b[0m\u001b[0;34m[\u001b[0m\u001b[0;36m0\u001b[0m\u001b[0;34m]\u001b[0m\u001b[0;34m.\u001b[0m\u001b[0mdataseturi_set\u001b[0m\u001b[0;34m.\u001b[0m\u001b[0mall\u001b[0m\u001b[0;34m(\u001b[0m\u001b[0;34m)\u001b[0m\u001b[0;34m[\u001b[0m\u001b[0;36m0\u001b[0m\u001b[0;34m]\u001b[0m\u001b[0;34m.\u001b[0m\u001b[0muri\u001b[0m\u001b[0;34m)\u001b[0m\u001b[0;34m\u001b[0m\u001b[0m\n\u001b[0m\u001b[1;32m      2\u001b[0m \u001b[0md\u001b[0m \u001b[0;34m=\u001b[0m \u001b[0mDomain\u001b[0m\u001b[0;34m(\u001b[0m\u001b[0mNSR\u001b[0m\u001b[0;34m(\u001b[0m\u001b[0;34m)\u001b[0m\u001b[0;34m.\u001b[0m\u001b[0mwkt\u001b[0m\u001b[0;34m,\u001b[0m \u001b[0;34m'-te 10 -44 40 -30 -tr 0.125 0.125'\u001b[0m\u001b[0;34m)\u001b[0m\u001b[0;34m\u001b[0m\u001b[0m\n\u001b[1;32m      3\u001b[0m \u001b[0mn\u001b[0m\u001b[0;34m.\u001b[0m\u001b[0mreproject\u001b[0m\u001b[0;34m(\u001b[0m\u001b[0md\u001b[0m\u001b[0;34m,\u001b[0m \u001b[0maddmask\u001b[0m\u001b[0;34m=\u001b[0m\u001b[0mFalse\u001b[0m\u001b[0;34m)\u001b[0m\u001b[0;34m\u001b[0m\u001b[0m\n",
      "\u001b[0;32m/home/vagrant/miniconda/lib/python2.7/site-packages/nansat/nansat.pyc\u001b[0m in \u001b[0;36m__init__\u001b[0;34m(self, fileName, mapperName, domain, array, parameters, logLevel, **kwargs)\u001b[0m\n\u001b[1;32m    164\u001b[0m         \u001b[0;32mif\u001b[0m \u001b[0mfileName\u001b[0m \u001b[0;34m!=\u001b[0m \u001b[0;34m''\u001b[0m\u001b[0;34m:\u001b[0m\u001b[0;34m\u001b[0m\u001b[0m\n\u001b[1;32m    165\u001b[0m             \u001b[0;31m# Make original VRT object with mapping of variables\u001b[0m\u001b[0;34m\u001b[0m\u001b[0;34m\u001b[0m\u001b[0m\n\u001b[0;32m--> 166\u001b[0;31m             \u001b[0mself\u001b[0m\u001b[0;34m.\u001b[0m\u001b[0mvrt\u001b[0m \u001b[0;34m=\u001b[0m \u001b[0mself\u001b[0m\u001b[0;34m.\u001b[0m\u001b[0m_get_mapper\u001b[0m\u001b[0;34m(\u001b[0m\u001b[0mmapperName\u001b[0m\u001b[0;34m,\u001b[0m \u001b[0;34m**\u001b[0m\u001b[0mkwargs\u001b[0m\u001b[0;34m)\u001b[0m\u001b[0;34m\u001b[0m\u001b[0m\n\u001b[0m\u001b[1;32m    167\u001b[0m         \u001b[0;31m# ...create using array, domain, and parameters\u001b[0m\u001b[0;34m\u001b[0m\u001b[0;34m\u001b[0m\u001b[0m\n\u001b[1;32m    168\u001b[0m         \u001b[0;32melse\u001b[0m\u001b[0;34m:\u001b[0m\u001b[0;34m\u001b[0m\u001b[0m\n",
      "\u001b[0;32m/home/vagrant/miniconda/lib/python2.7/site-packages/nansat/nansat.pyc\u001b[0m in \u001b[0;36m_get_mapper\u001b[0;34m(self, mapperName, **kwargs)\u001b[0m\n\u001b[1;32m   1705\u001b[0m                                                     \u001b[0mgdalDataset\u001b[0m\u001b[0;34m,\u001b[0m\u001b[0;34m\u001b[0m\u001b[0m\n\u001b[1;32m   1706\u001b[0m                                                     \u001b[0mmetadata\u001b[0m\u001b[0;34m,\u001b[0m\u001b[0;34m\u001b[0m\u001b[0m\n\u001b[0;32m-> 1707\u001b[0;31m                                                     **kwargs)\n\u001b[0m\u001b[1;32m   1708\u001b[0m                     \u001b[0mself\u001b[0m\u001b[0;34m.\u001b[0m\u001b[0mlogger\u001b[0m\u001b[0;34m.\u001b[0m\u001b[0minfo\u001b[0m\u001b[0;34m(\u001b[0m\u001b[0;34m'Mapper %s - success!'\u001b[0m \u001b[0;34m%\u001b[0m \u001b[0miMapper\u001b[0m\u001b[0;34m)\u001b[0m\u001b[0;34m\u001b[0m\u001b[0m\n\u001b[1;32m   1709\u001b[0m                     \u001b[0mself\u001b[0m\u001b[0;34m.\u001b[0m\u001b[0mmapper\u001b[0m \u001b[0;34m=\u001b[0m \u001b[0miMapper\u001b[0m\u001b[0;34m.\u001b[0m\u001b[0mreplace\u001b[0m\u001b[0;34m(\u001b[0m\u001b[0;34m'mapper_'\u001b[0m\u001b[0;34m,\u001b[0m \u001b[0;34m''\u001b[0m\u001b[0;34m)\u001b[0m\u001b[0;34m\u001b[0m\u001b[0m\n",
      "\u001b[0;32m/vagrant/shared/src/nansat/nansat/mappers/mapper_opendap_globcurrent.pyc\u001b[0m in \u001b[0;36m__init__\u001b[0;34m(self, fileName, gdalDataset, gdalMetadata, date, ds, bands, cachedir, **kwargs)\u001b[0m\n\u001b[1;32m     44\u001b[0m         \u001b[0mdate\u001b[0m \u001b[0;34m=\u001b[0m \u001b[0;34m'%s-%s-%sT%s:00Z'\u001b[0m \u001b[0;34m%\u001b[0m \u001b[0;34m(\u001b[0m\u001b[0mfname\u001b[0m\u001b[0;34m[\u001b[0m\u001b[0;36m0\u001b[0m\u001b[0;34m:\u001b[0m\u001b[0;36m4\u001b[0m\u001b[0;34m]\u001b[0m\u001b[0;34m,\u001b[0m \u001b[0mfname\u001b[0m\u001b[0;34m[\u001b[0m\u001b[0;36m4\u001b[0m\u001b[0;34m:\u001b[0m\u001b[0;36m6\u001b[0m\u001b[0;34m]\u001b[0m\u001b[0;34m,\u001b[0m \u001b[0mfname\u001b[0m\u001b[0;34m[\u001b[0m\u001b[0;36m6\u001b[0m\u001b[0;34m:\u001b[0m\u001b[0;36m8\u001b[0m\u001b[0;34m]\u001b[0m\u001b[0;34m,\u001b[0m \u001b[0mfname\u001b[0m\u001b[0;34m[\u001b[0m\u001b[0;36m8\u001b[0m\u001b[0;34m:\u001b[0m\u001b[0;36m10\u001b[0m\u001b[0;34m]\u001b[0m\u001b[0;34m)\u001b[0m\u001b[0;34m\u001b[0m\u001b[0m\n\u001b[1;32m     45\u001b[0m \u001b[0;34m\u001b[0m\u001b[0m\n\u001b[0;32m---> 46\u001b[0;31m         \u001b[0mself\u001b[0m\u001b[0;34m.\u001b[0m\u001b[0mcreate_vrt\u001b[0m\u001b[0;34m(\u001b[0m\u001b[0mfileName\u001b[0m\u001b[0;34m,\u001b[0m \u001b[0mgdalDataset\u001b[0m\u001b[0;34m,\u001b[0m \u001b[0mgdalMetadata\u001b[0m\u001b[0;34m,\u001b[0m \u001b[0mdate\u001b[0m\u001b[0;34m,\u001b[0m \u001b[0mds\u001b[0m\u001b[0;34m,\u001b[0m \u001b[0mbands\u001b[0m\u001b[0;34m,\u001b[0m \u001b[0mcachedir\u001b[0m\u001b[0;34m)\u001b[0m\u001b[0;34m\u001b[0m\u001b[0m\n\u001b[0m\u001b[1;32m     47\u001b[0m \u001b[0;34m\u001b[0m\u001b[0m\n\u001b[1;32m     48\u001b[0m         \u001b[0;31m# add instrument and platform\u001b[0m\u001b[0;34m\u001b[0m\u001b[0;34m\u001b[0m\u001b[0m\n",
      "\u001b[0;32m/home/vagrant/miniconda/lib/python2.7/site-packages/nansat/mappers/opendap.pyc\u001b[0m in \u001b[0;36mcreate_vrt\u001b[0;34m(self, fileName, gdalDataset, gdalMetadata, date, ds, bands, cachedir)\u001b[0m\n\u001b[1;32m    150\u001b[0m         \u001b[0mself\u001b[0m\u001b[0;34m.\u001b[0m\u001b[0mfileName\u001b[0m \u001b[0;34m=\u001b[0m \u001b[0mfileName\u001b[0m\u001b[0;34m\u001b[0m\u001b[0m\n\u001b[1;32m    151\u001b[0m         \u001b[0mself\u001b[0m\u001b[0;34m.\u001b[0m\u001b[0mcachedir\u001b[0m \u001b[0;34m=\u001b[0m \u001b[0mcachedir\u001b[0m\u001b[0;34m\u001b[0m\u001b[0m\n\u001b[0;32m--> 152\u001b[0;31m         \u001b[0mself\u001b[0m\u001b[0;34m.\u001b[0m\u001b[0mds\u001b[0m \u001b[0;34m=\u001b[0m \u001b[0mself\u001b[0m\u001b[0;34m.\u001b[0m\u001b[0mget_dataset\u001b[0m\u001b[0;34m(\u001b[0m\u001b[0mds\u001b[0m\u001b[0;34m)\u001b[0m\u001b[0;34m\u001b[0m\u001b[0m\n\u001b[0m\u001b[1;32m    153\u001b[0m \u001b[0;34m\u001b[0m\u001b[0m\n\u001b[1;32m    154\u001b[0m         \u001b[0mdsTime\u001b[0m \u001b[0;34m=\u001b[0m \u001b[0mself\u001b[0m\u001b[0;34m.\u001b[0m\u001b[0mget_dataset_time\u001b[0m\u001b[0;34m(\u001b[0m\u001b[0;34m)\u001b[0m\u001b[0;34m\u001b[0m\u001b[0m\n",
      "\u001b[0;32m/home/vagrant/miniconda/lib/python2.7/site-packages/nansat/mappers/opendap.pyc\u001b[0m in \u001b[0;36mget_dataset\u001b[0;34m(self, ds)\u001b[0m\n\u001b[1;32m     58\u001b[0m                 \u001b[0mds\u001b[0m \u001b[0;34m=\u001b[0m \u001b[0mDataset\u001b[0m\u001b[0;34m(\u001b[0m\u001b[0mself\u001b[0m\u001b[0;34m.\u001b[0m\u001b[0mfileName\u001b[0m\u001b[0;34m)\u001b[0m\u001b[0;34m\u001b[0m\u001b[0m\n\u001b[1;32m     59\u001b[0m             \u001b[0;32mexcept\u001b[0m\u001b[0;34m:\u001b[0m\u001b[0;34m\u001b[0m\u001b[0m\n\u001b[0;32m---> 60\u001b[0;31m                 \u001b[0;32mraise\u001b[0m \u001b[0mOptionError\u001b[0m\u001b[0;34m(\u001b[0m\u001b[0;34m'Cannot open %s'\u001b[0m \u001b[0;34m%\u001b[0m \u001b[0mself\u001b[0m\u001b[0;34m.\u001b[0m\u001b[0mfileName\u001b[0m\u001b[0;34m)\u001b[0m\u001b[0;34m\u001b[0m\u001b[0m\n\u001b[0m\u001b[1;32m     61\u001b[0m         \u001b[0;32melif\u001b[0m \u001b[0mtype\u001b[0m\u001b[0;34m(\u001b[0m\u001b[0mds\u001b[0m\u001b[0;34m)\u001b[0m \u001b[0;34m!=\u001b[0m \u001b[0mDataset\u001b[0m\u001b[0;34m:\u001b[0m\u001b[0;34m\u001b[0m\u001b[0m\n\u001b[1;32m     62\u001b[0m             \u001b[0;32mraise\u001b[0m \u001b[0mOptionError\u001b[0m\u001b[0;34m(\u001b[0m\u001b[0;34m'Input ds is not netCDF.Dataset!'\u001b[0m\u001b[0;34m)\u001b[0m\u001b[0;34m\u001b[0m\u001b[0m\n",
      "\u001b[0;31mOptionError\u001b[0m: Cannot open http://www.ifremer.fr/opendap/cerdap1/globcurrent/v2.0/global_012_deg/geostrophic/2014/002/20140102000000-GLOBCURRENT-L4-CURgeo_0m-ALT_OI-v02.0-fv01.0.nc"
     ]
    }
   ],
   "source": [
    "n = Nansat(gc_datasets[0].dataseturi_set.all()[0].uri)\n",
    "d = Domain(NSR().wkt, '-te 10 -44 40 -30 -tr 0.125 0.125')\n",
    "n.reproject(d, addmask=False)"
   ]
  },
  {
   "cell_type": "code",
   "execution_count": null,
   "metadata": {
    "collapsed": false,
    "deletable": true,
    "editable": true
   },
   "outputs": [],
   "source": [
    "# Search for drifters in the same region (defined at lon={0,360})\n",
    "drifterdomain = Domain(NSR().wkt, '-te 10 -44 40 -30 -tr 0.125 0.125')\n",
    "geometry = WKTReader().read(drifterdomain.get_border_wkt(nPoints=1000))\n",
    "drifters = Dataset.objects.filter(entry_title__contains='drifter', \n",
    "                                  time_coverage_start__range=[n.time_coverage_start-timezone.timedelta(days=15),\n",
    "                                      n.time_coverage_end+timezone.timedelta(days=15)],\n",
    "                                  geographic_location__geometry__intersects=geometry)\n",
    "print len(drifters)"
   ]
  },
  {
   "cell_type": "code",
   "execution_count": null,
   "metadata": {
    "collapsed": false,
    "deletable": true,
    "editable": true
   },
   "outputs": [],
   "source": [
    "u = n['eastward_geostrophic_current_velocity']\n",
    "v = n['northward_geostrophic_current_velocity']"
   ]
  },
  {
   "cell_type": "code",
   "execution_count": null,
   "metadata": {
    "collapsed": false,
    "deletable": true,
    "editable": true
   },
   "outputs": [],
   "source": [
    "plt.figure()\n",
    "plt.imshow(np.hypot(u, v), extent=(10,40,-44,-30))\n",
    "for d in drifters:\n",
    "    try:\n",
    "        coords = np.array(d.geographic_location.geometry.coords).T\n",
    "        plt.plot(coords[0], coords[1],'r.')\n",
    "    except:\n",
    "        continue"
   ]
  },
  {
   "cell_type": "code",
   "execution_count": null,
   "metadata": {
    "collapsed": false,
    "deletable": true,
    "editable": true
   },
   "outputs": [],
   "source": [
    "from scipy import ndimage\n",
    "def rungekutta4(x, y, u0, v0, u1, v1, x0, y0, h):\n",
    "    ''' Integrate velocity field using Runge-Kutta 4th order '''\n",
    "    # convert grid with initial X (in meters) to columns\n",
    "    xMin, xMax = float(x.min()), float(x.max())\n",
    "    x1 = (x0 - xMin) / (xMax - xMin) * (x.shape[1] - 1)\n",
    "\n",
    "    # convert grid with initial Y (in meters) to rows (reverse)\n",
    "    yMin, yMax = float(y.min()), float(y.max())\n",
    "    y1 = (yMax - y0) / (yMax - yMin) * (y.shape[0] - 1)\n",
    "\n",
    "    # rescale h to be in rows/cols\n",
    "    dx = float(np.diff(x)[0,0])\n",
    "    h /= dx\n",
    "\n",
    "    k1 = h * ndimage.map_coordinates(u0, [y1, x1], order=1, cval=np.nan)\n",
    "    l1 =-h * ndimage.map_coordinates(v0, [y1, x1], order=1, cval=np.nan)\n",
    "\n",
    "    k2 = h * ndimage.map_coordinates((u0 + u1) / 2, [y1 + l1 / 2, x1 + k1 / 2], order=1, cval=np.nan)\n",
    "    l2 =-h * ndimage.map_coordinates((v0 + v1) / 2, [y1 + l1 / 2, x1 + k1 / 2], order=1, cval=np.nan)\n",
    "\n",
    "    k3 = h * ndimage.map_coordinates((u0 + u1) / 2, [y1 + l2 / 2, x1 + k2 / 2], order=1, cval=np.nan)\n",
    "    l3 =-h * ndimage.map_coordinates((v0 + v1) / 2, [y1 + l2 / 2, x1 + k2 / 2], order=1, cval=np.nan)\n",
    "\n",
    "    k4 = h * ndimage.map_coordinates(u1, [y1 + l3, x1 + k3], order=1, cval=np.nan)\n",
    "    l4 =-h * ndimage.map_coordinates(v1, [y1 + l3, x1 + k3], order=1, cval=np.nan)\n",
    "\n",
    "    x5 = x1 + (k1 + 2 * k2 + 2 * k3 + k4) / 6\n",
    "    y5 = y1 + (l1 + 2 * l2 + 2 * l3 + l4) / 6\n",
    "\n",
    "    # convert rows/cols back to meters\n",
    "    xOut = x5 / (x.shape[1] - 1) * (xMax - xMin) + xMin\n",
    "    yOut = yMax - y5 / (x.shape[0] - 1) * (yMax - yMin)\n",
    "\n",
    "    return xOut, yOut\n",
    "\n",
    "NMAX = 100.\n",
    "def run_rk4(xgrd, ygrd, u, v, h, xx, yy, n=0):\n",
    "    if (xx[-1] > xgrd.max() or\n",
    "        xx[-1] < xgrd.min() or\n",
    "        yy[-1] > ygrd.max() or\n",
    "        yy[-1] < ygrd.min() or\n",
    "        n > NMAX):\n",
    "        return xx, yy\n",
    "    #print xx, yy, n\n",
    "    x1, y1 = rungekutta4(xgrd, ygrd, u, v, u, v, np.array([xx[-1]]), np.array([yy[-1]]), h)\n",
    "    xx.append(x1[0])\n",
    "    yy.append(y1[0])\n",
    "    return run_rk4(xgrd, ygrd, u, v, h, xx, yy, n+1)"
   ]
  },
  {
   "cell_type": "code",
   "execution_count": null,
   "metadata": {
    "collapsed": true
   },
   "outputs": [],
   "source": [
    "lon, lat = n.get_geolocation_grids()"
   ]
  },
  {
   "cell_type": "code",
   "execution_count": null,
   "metadata": {
    "collapsed": false
   },
   "outputs": [],
   "source": [
    "h = 0.1\n",
    "xgrd, ygrd = lon.copy(), lat.copy()\n",
    "xx, yy = None, None\n",
    "\n",
    "# interactive animation (local Jupyter-notebook)\n",
    "fig = plt.figure()\n",
    "ax1 = fig.add_subplot(111)\n",
    "\n",
    "def click(event):\n",
    "    global x0, y0, xx, yy\n",
    "    if event.button==1 and event.inaxes:#select initial conditions pressing left mouse button \n",
    "        x0,y0 = event.xdata, event.ydata\n",
    "        print x0, y0\n",
    "        xx,yy = run_rk4(xgrd, ygrd, u, v, h, [x0], [y0])\n",
    "        ax1.plot(xx, yy, '.-')\n",
    "        fig.canvas.draw()\n",
    "\n",
    "img1 = ax1.imshow(np.hypot(u,v), extent=[xgrd.min(), xgrd.max(), ygrd.min(), ygrd.max()], vmax=2);\n",
    "for d in drifters:\n",
    "    try:\n",
    "        coords = np.array(d.geographic_location.geometry.coords).T\n",
    "        ax1.plot(coords[0], coords[1],'r.')\n",
    "    except:\n",
    "        continue\n",
    "#plt.colorbar(img1)\n",
    "plt.connect('button_press_event', click)\n",
    "plt.show()\n",
    "print xx, yy"
   ]
  },
  {
   "cell_type": "code",
   "execution_count": null,
   "metadata": {
    "collapsed": true
   },
   "outputs": [],
   "source": []
  }
 ],
 "metadata": {
  "kernelspec": {
   "display_name": "Python 2",
   "language": "python",
   "name": "python2"
  },
  "language_info": {
   "codemirror_mode": {
    "name": "ipython",
    "version": 2
   },
   "file_extension": ".py",
   "mimetype": "text/x-python",
   "name": "python",
   "nbconvert_exporter": "python",
   "pygments_lexer": "ipython2",
   "version": "2.7.13"
  }
 },
 "nbformat": 4,
 "nbformat_minor": 2
}
