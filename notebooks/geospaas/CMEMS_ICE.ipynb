{
 "cells": [
  {
   "cell_type": "code",
   "execution_count": 18,
   "metadata": {
    "collapsed": true
   },
   "outputs": [],
   "source": [
    "%matplotlib inline\n",
    "from nansat import *\n",
    "from cmocean import cm\n",
    "from IPython.display import Image"
   ]
  },
  {
   "cell_type": "code",
   "execution_count": 19,
   "metadata": {
    "collapsed": true
   },
   "outputs": [],
   "source": [
    "n_arc = Nansat(\n",
    "    '/vagrant/shared/test_data/cmems/ARC-METNO-ARC-TOPAZ4_2_PHYS-FOR-TDS-x20-X80-y60-Y90-20170520-20170530.nc')"
   ]
  },
  {
   "cell_type": "code",
   "execution_count": 20,
   "metadata": {},
   "outputs": [
    {
     "name": "stdout",
     "output_type": "stream",
     "text": [
      "=>Arctic Sea and Ice Surface Temperature, L4, 5km daily  (DMI-ARC-SEAICE_TEMP-L4-NRT-OBS)<=\n"
     ]
    }
   ],
   "source": [
    "n_siw = Nansat(\n",
    "    '/vagrant/shared/test_data/cmems/SIW-DMI-ARC-SEAICE_TEMP-OBS-TDS-x0-X100-y60-Y90-20170520-20170525.nc')"
   ]
  },
  {
   "cell_type": "code",
   "execution_count": 21,
   "metadata": {
    "collapsed": true
   },
   "outputs": [],
   "source": [
    "d = Domain('+proj=stere +lon_0=55 +lat_0=75 +no_defs',\n",
    "           '-te -1000000 -1000000 1000000 1000000 -tr 10000 10000')\n",
    "\n",
    "n_arc.reproject(d)\n",
    "n_siw.reproject(d)"
   ]
  },
  {
   "cell_type": "code",
   "execution_count": 25,
   "metadata": {
    "collapsed": true
   },
   "outputs": [],
   "source": [
    "fice = n_arc['fice_004']\n",
    "sic = n_siw['sea_ice_fraction_004']"
   ]
  },
  {
   "cell_type": "code",
   "execution_count": 37,
   "metadata": {
    "collapsed": true
   },
   "outputs": [],
   "source": [
    "nmap = Nansatmap(n_siw, resolution='l')\n",
    "nmap.imshow(sic, vmin=0, vmax=1, cmap=cm.ice)\n",
    "nmap.add_colorbar(shrink=0.5)\n",
    "nmap.save('sic_map.png', dpi=300)\n",
    "nmap.imshow(fice, vmin=0, vmax=1, cmap=cm.ice)\n",
    "nmap.save('fice_map.png', dpi=300)\n",
    "plt.close('all')"
   ]
  },
  {
   "cell_type": "markdown",
   "metadata": {},
   "source": [
    "## Sea Ice Concentration, 25.03.2017\n",
    "Observation            |Analysis\n",
    ":---------------------:|:-------------------------:\n",
    "![](sic_map.png )      |![](fice_map.png)"
   ]
  },
  {
   "cell_type": "code",
   "execution_count": 36,
   "metadata": {
    "collapsed": true
   },
   "outputs": [],
   "source": [
    "nmap = Nansatmap(n_siw, resolution='l')\n",
    "nmap.imshow(n_arc['hice'], vmin=0, vmax=1.5)\n",
    "nmap.add_colorbar(shrink=0.5)\n",
    "nmap.save('hice00_map.png', dpi=300)\n",
    "nmap.imshow(n_arc['hice_010'], vmin=0, vmax=1.5)\n",
    "nmap.save('hice10_map.png', dpi=300)\n",
    "plt.close('all')"
   ]
  },
  {
   "cell_type": "markdown",
   "metadata": {
    "collapsed": true
   },
   "source": [
    "## Sea Ice Thickness (simulation)\n",
    "20.05.2017             | 30.05.2017\n",
    ":---------------------:|:-------------------------:\n",
    "![](hice00_map.png)    |![](hice10_map.png)"
   ]
  },
  {
   "cell_type": "code",
   "execution_count": null,
   "metadata": {
    "collapsed": true
   },
   "outputs": [],
   "source": []
  }
 ],
 "metadata": {
  "kernelspec": {
   "display_name": "Python 2",
   "language": "python",
   "name": "python2"
  },
  "language_info": {
   "codemirror_mode": {
    "name": "ipython",
    "version": 2
   },
   "file_extension": ".py",
   "mimetype": "text/x-python",
   "name": "python",
   "nbconvert_exporter": "python",
   "pygments_lexer": "ipython2",
   "version": "2.7.13"
  }
 },
 "nbformat": 4,
 "nbformat_minor": 2
}
