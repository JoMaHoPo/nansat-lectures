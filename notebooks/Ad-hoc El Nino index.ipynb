{
 "cells": [
  {
   "cell_type": "markdown",
   "metadata": {},
   "source": [
    "## Exercise: Compute an ad-hoc El Nino index based on SST data between 2010 and 2017\n",
    "Tips:\n",
    "* Use Pandas to handle array indexing (with time), and for plotting\n",
    "\n",
    "### Input data\n",
    "SST: ```/vagrant/shared/course_vm/nansat-lectures/notebooks/data/analysed_sst_ostia_-120_-130_-5_5.npy```\n",
    "\n",
    "Time stamps: ```/vagrant/shared/course_vm/nansat-lectures/notebooks/data/times_ostia_-120_-130_-5_5.npy```\n",
    "\n",
    "### 1: Subtract seasonal signal by applying a 365 days low pass filter\n",
    "\n",
    "### 2: Compute the anomaly of the inter-annual SST signal, i.e., the El Nino index\n",
    "\n",
    "### 3: [OPTIONAL] The first and last 182 days of the filtered data will be invalid - how to get the best estimate of the anomalies during these periods?\n",
    "\n",
    "### 4: [OPTIONAL] Can you make a 2D animation of the SST variability in the region?\n"
   ]
  },
  {
   "cell_type": "code",
   "execution_count": null,
   "metadata": {},
   "outputs": [],
   "source": []
  }
 ],
 "metadata": {
  "kernelspec": {
   "display_name": "Python 2",
   "language": "python",
   "name": "python2"
  },
  "language_info": {
   "codemirror_mode": {
    "name": "ipython",
    "version": 2
   },
   "file_extension": ".py",
   "mimetype": "text/x-python",
   "name": "python",
   "nbconvert_exporter": "python",
   "pygments_lexer": "ipython2",
   "version": "2.7.13"
  }
 },
 "nbformat": 4,
 "nbformat_minor": 2
}
