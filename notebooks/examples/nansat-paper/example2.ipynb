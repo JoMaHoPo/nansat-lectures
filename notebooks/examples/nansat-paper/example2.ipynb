{
 "cells": [
  {
   "cell_type": "code",
   "execution_count": 1,
   "metadata": {
    "collapsed": true
   },
   "outputs": [],
   "source": [
    "%matplotlib inline\n",
    "from nansat import *"
   ]
  },
  {
   "cell_type": "code",
   "execution_count": 39,
   "metadata": {
    "collapsed": false
   },
   "outputs": [
    {
     "name": "stderr",
     "output_type": "stream",
     "text": [
      "12:41:27|40|nansat|_get_mapper|GDAL could not open sstcci_online:analysed_sst:2009-06-01, trying to read with Nansat mappers...\n",
      "ERROR:Nansat:GDAL could not open sstcci_online:analysed_sst:2009-06-01, trying to read with Nansat mappers...\n",
      "12:41:27|40|nansat|_get_mapper|GDAL could not open occci_online:8D:chlor_a:2009-06-01, trying to read with Nansat mappers...\n",
      "ERROR:Nansat:GDAL could not open occci_online:8D:chlor_a:2009-06-01, trying to read with Nansat mappers...\n"
     ]
    },
    {
     "name": "stdout",
     "output_type": "stream",
     "text": [
      "Get lon, lat\n",
      "Get  2009-06-01 00:00:00 analysed_sst\n",
      "from  ./ESACCI_L4_GHRSST_SSTdepth_OSTIA_GLOB_LT_v02.0_fv01.0.nc_analysed_sst_20090601_-079-050+030+049.tif ...\n",
      "from  ./ESACCI_L4_GHRSST_SSTdepth_OSTIA_GLOB_LT_v02.0_fv01.0.nc_analysed_sst_20090601_-079-050+030+049.tif\n",
      "Get lon, lat, time\n",
      "Get  8D chlor_a\n",
      "from  ./CCI_ALL-v2.0-8DAY_8D_chlor_a_20090602_-079-050+030+049.tif ...\n",
      "from  ./CCI_ALL-v2.0-8DAY_8D_chlor_a_20090602_-079-050+030+049.tif\n"
     ]
    }
   ],
   "source": [
    "# define min/max longitude, latitude\n",
    "lons = [-80, -50]\n",
    "lats = [30,  50]\n",
    "\n",
    "# open online datasets with sea surface temperature and surface chlorophyll\n",
    "# from Eurpean Space Agency Climate Change Initiative (ESA CCI) project\n",
    "n1 = Nansat('sstcci_online:analysed_sst:2009-06-01', lons=lons, lats=lats)\n",
    "n2 = Nansat('occci_online:8D:chlor_a:2009-06-01', lons=lons, lats=lats)\n",
    "\n",
    "# colocate datasets in space\n",
    "n.reproject(n2)\n",
    "\n",
    "# fetch matrices with geophyscal values of SST, chlorophyll and coordinates\n",
    "sst = n['analysed_sst']\n",
    "chl = n2['chlor_a']\n",
    "lon, lat = n.get_geolocation_grids()\n",
    "\n",
    "# get transect from given pixels, and lines\n",
    "sst_line = sst[200:300, 370]\n",
    "chl_line = chl[200:300, 370]\n",
    "lat_line = lat[200:300, 370]"
   ]
  },
  {
   "cell_type": "code",
   "execution_count": 113,
   "metadata": {
    "collapsed": false
   },
   "outputs": [],
   "source": [
    "plt.figure(figsize=(15,5))\n",
    "plt.subplot(1,3,1)\n",
    "plt.imshow(sst, vmin=275, extent=[0,700,0,500]);plt.colorbar(shrink=0.5)\n",
    "plt.plot([370,370],[200,300],'.-k')\n",
    "plt.title('Sea surface temperature')\n",
    "\n",
    "plt.subplot(1,3,2)\n",
    "plt.title('Chlorophyll')\n",
    "plt.imshow(chl, vmax=1.5, extent=[0,700,0,500]);plt.colorbar(shrink=0.5)\n",
    "plt.plot([370,370],[200,300],'.-k')\n",
    "\n",
    "ax1 = plt.subplot(1,3,3)\n",
    "ax1.plot(lat_line, sst_line-np.nanmean(sst_line), '.-r')\n",
    "ax1.set_xlabel('latitude')\n",
    "ax1.set_ylabel('SST anomaly', color='r')\n",
    "ax2 = ax1.twinx()\n",
    "ax2.plot(lat_line, chl_line-np.nanmean(chl_line), '.-g')\n",
    "ax2.set_ylabel('CHL anomaly', color='g')\n",
    "plt.savefig('triplot.png', dpi=150, pad_inches=0, bbox_inches='tight')\n",
    "plt.close()"
   ]
  }
 ],
 "metadata": {
  "kernelspec": {
   "display_name": "Python 2",
   "language": "python",
   "name": "python2"
  },
  "language_info": {
   "codemirror_mode": {
    "name": "ipython",
    "version": 2
   },
   "file_extension": ".py",
   "mimetype": "text/x-python",
   "name": "python",
   "nbconvert_exporter": "python",
   "pygments_lexer": "ipython2",
   "version": "2.7.10"
  }
 },
 "nbformat": 4,
 "nbformat_minor": 0
}
