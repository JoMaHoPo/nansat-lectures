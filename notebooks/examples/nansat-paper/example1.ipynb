{
 "cells": [
  {
   "cell_type": "code",
   "execution_count": 1,
   "metadata": {
    "collapsed": false
   },
   "outputs": [
    {
     "name": "stdout",
     "output_type": "stream",
     "text": [
      "WARNING: Using the default (non-CF) Udunits database\n"
     ]
    },
    {
     "data": {
      "text/plain": [
       "<nansat.figure.Figure at 0x7fefa04d57d0>"
      ]
     },
     "execution_count": 1,
     "metadata": {},
     "output_type": "execute_result"
    }
   ],
   "source": [
    "from nansat import Nansat, Domain\n",
    "\n",
    "# download original MODIS/Aqua L1B file here\n",
    "#ftp://ladsweb.nascom.nasa.gov/allData/6/MYD02HKM/2015/122/\n",
    "\n",
    "# Open file using Nansat\n",
    "n = Nansat('MYD02HKM.A2015122.1220.006.2015123152508.hdf')\n",
    "\n",
    "# Define grid of interest with given projection, boundaries and resolution\n",
    "d = Domain('+proj=longlat', '-te 3 59.5 6 61.5 -tr 0.008 0.004')\n",
    "\n",
    "# Apply lazy transofrmation of satellite image\n",
    "n.reproject(d, eResampleAlg=1)\n",
    "\n",
    "# Create graphic file with RGB composite from bands at 469, 555 and 645 nm\n",
    "# using automatically stretched historgram\n",
    "n.write_figure('rgb_image.png',\n",
    "                   ['L_645', 'L_555', 'L_469'],\n",
    "                   clim='hist',\n",
    "                   ratio=0.9)"
   ]
  },
  {
   "cell_type": "code",
   "execution_count": null,
   "metadata": {
    "collapsed": true
   },
   "outputs": [],
   "source": []
  }
 ],
 "metadata": {
  "kernelspec": {
   "display_name": "Python 2",
   "language": "python",
   "name": "python2"
  },
  "language_info": {
   "codemirror_mode": {
    "name": "ipython",
    "version": 2
   },
   "file_extension": ".py",
   "mimetype": "text/x-python",
   "name": "python",
   "nbconvert_exporter": "python",
   "pygments_lexer": "ipython2",
   "version": "2.7.10"
  }
 },
 "nbformat": 4,
 "nbformat_minor": 0
}
