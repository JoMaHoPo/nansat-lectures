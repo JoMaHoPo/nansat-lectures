{
 "cells": [
  {
   "cell_type": "code",
   "execution_count": 1,
   "metadata": {
    "collapsed": false
   },
   "outputs": [
    {
     "name": "stdout",
     "output_type": "stream",
     "text": [
      "(24.6049260667, 35.3978824361)\n",
      "(18.2284575833, 35.9177127349)\n",
      "40.0\n"
     ]
    }
   ],
   "source": [
    "from profile import Profile\n",
    "\n",
    "p = Profile('tsprofile.txt')\n",
    "print p.get_ts_at_level(5)\n",
    "print p.get_ts_at_depth(200)\n",
    "print p.get_mixed_layer_depth(.1)"
   ]
  },
  {
   "cell_type": "code",
   "execution_count": 2,
   "metadata": {
    "collapsed": false
   },
   "outputs": [
    {
     "data": {
      "image/png": "[encoded data removed]",
      "text/plain": [
       "<matplotlib.figure.Figure at 0xb4de3d0c>"
      ]
     },
     "metadata": {},
     "output_type": "display_data"
    }
   ],
   "source": [
    "%matplotlib inline\n",
    "p.plot_ts()"
   ]
  },
  {
   "cell_type": "markdown",
   "metadata": {},
   "source": [
    "## How would it look without OOP?"
   ]
  },
  {
   "cell_type": "markdown",
   "metadata": {},
   "source": [
    "#### 1. A lot of functions to import"
   ]
  },
  {
   "cell_type": "code",
   "execution_count": 0,
   "metadata": {
    "collapsed": false
   },
   "outputs": [],
   "source": [
    "from st_profile import load_profile, get_ts_at_level, get_ts_at_depth\n",
    "from st_profile import get_mixed_layer_depth, plot_ts"
   ]
  },
  {
   "cell_type": "markdown",
   "metadata": {},
   "source": [
    "#### 2. A lot of data to unpack and to between functions"
   ]
  },
  {
   "cell_type": "code",
   "execution_count": 3,
   "metadata": {
    "collapsed": false
   },
   "outputs": [],
   "source": [
    "depth, temp, sal =  load_profile('tsprofile.txt')\n",
    "print get_ts_at_level(depth, temp, sal)"
   ]
  },
  {
   "cell_type": "markdown",
   "metadata": {},
   "source": [
    "#### 3. And imagine now we open a satellite image which has:\n",
    "* many matrices with data\n",
    "* georeference information (e.g. lon, lat of corners)\n",
    "* description of data (metadata)\n",
    "* and so on...\n",
    "\n",
    "## And here comes OOP:"
   ]
  },
  {
   "cell_type": "code",
   "execution_count": null,
   "metadata": {
    "collapsed": false
   },
   "outputs": [],
   "source": [
    "from nansat import Nansat\n",
    "n = Nansat('satellite_filename.hdf')"
   ]
  }
 ],
 "metadata": {
  "kernelspec": {
   "display_name": "Python 2",
   "language": "python",
   "name": "python2"
  },
  "language_info": {
   "codemirror_mode": {
    "name": "ipython",
    "version": 2
   },
   "file_extension": ".py",
   "mimetype": "text/x-python",
   "name": "python",
   "nbconvert_exporter": "python",
   "pygments_lexer": "ipython2",
   "version": "2.7.6"
  }
 },
 "nbformat": 4,
 "nbformat_minor": 0
}
