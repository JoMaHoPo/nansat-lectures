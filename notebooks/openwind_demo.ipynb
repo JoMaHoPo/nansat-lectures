{
 "cells": [
  {
   "cell_type": "code",
   "execution_count": 1,
   "metadata": {
    "collapsed": false
   },
   "outputs": [],
   "source": [
    "from openwind.sar_wind import SARWind"
   ]
  },
  {
   "cell_type": "code",
   "execution_count": null,
   "metadata": {
    "collapsed": false
   },
   "outputs": [
    {
     "name": "stderr",
     "output_type": "stream",
     "text": [
      "10:59:39|40|nansat|_get_mapper|GDAL could not open /home/vagrant/data/S1A_IW_GRDH_1SDV_20141003T053708_20141003T053737_002661_002F66_A2F4.zip, trying to read with Nansat mappers...\n",
      "ERROR:Nansat:GDAL could not open /home/vagrant/data/S1A_IW_GRDH_1SDV_20141003T053708_20141003T053737_002661_002F66_A2F4.zip, trying to read with Nansat mappers...\n",
      "/usr/local/lib/python2.7/dist-packages/nansat-0.7_dev.0-py2.7-linux-x86_64.egg/nansat/mappers/mapper_s1a_l1.py:107: UserWarning: Sentinel-1 level-1 mapper is not yet adapted to complex data. In addition, the band names should be updated for multi-swath data - and there might be other issues.\n",
      "  warnings.warn('Sentinel-1 level-1 mapper is not yet adapted to '\n",
      "10:59:46|40|nansat|_get_mapper|GDAL could not open ncep_wind_online:201410030537, trying to read with Nansat mappers...\n",
      "ERROR:Nansat:GDAL could not open ncep_wind_online:201410030537, trying to read with Nansat mappers...\n"
     ]
    },
    {
     "name": "stdout",
     "output_type": "stream",
     "text": [
      "2014-10-03 05:37:00\n",
      "NRT GRIB file not available: ftp://ftp.ncep.noaa.gov/pub/data/nccf/com/gfs/prod/gfs.2014100306/gfs.t06z.master.grbf000.10m.uv.grib2\n",
      "Downloading http://nomads.ncdc.noaa.gov/data/gfs4/201410/20141003/gfs_4_20141003_0600_000.grb2\n",
      "Already downloaded /home/vagrant/ncep_gfs_downloads/gfs_4_20141003_0600_000.grb2\n",
      "Time difference between SAR image and wind direction: 0.38 hours"
     ]
    }
   ],
   "source": [
    "w = SARWind('/home/vagrant/data/S1A_IW_GRDH_1SDV_20141003T053708_20141003T053737_002661_002F66_A2F4.zip',\n",
    "            pixel_size=5000, eResampleAlg=0)"
   ]
  },
  {
   "cell_type": "code",
   "execution_count": null,
   "metadata": {
    "collapsed": true
   },
   "outputs": [],
   "source": []
  }
 ],
 "metadata": {
  "kernelspec": {
   "display_name": "Python 2",
   "language": "python",
   "name": "python2"
  },
  "language_info": {
   "codemirror_mode": {
    "name": "ipython",
    "version": 2
   },
   "file_extension": ".py",
   "mimetype": "text/x-python",
   "name": "python",
   "nbconvert_exporter": "python",
   "pygments_lexer": "ipython2",
   "version": "2.7.6"
  }
 },
 "nbformat": 4,
 "nbformat_minor": 0
}
