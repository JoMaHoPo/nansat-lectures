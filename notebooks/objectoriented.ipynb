{
 "metadata": {
  "name": "",
  "signature": "sha256:aa168941fbcc2f498c2812f30864ed1a51026d12a37ed3e9aaa86bcf78490bc2"
 },
 "nbformat": 3,
 "nbformat_minor": 0,
 "worksheets": [
  {
   "cells": [
    {
     "cell_type": "heading",
     "level": 1,
     "metadata": {},
     "source": [
      "Intorduction to Object Oriented Programming in Python"
     ]
    },
    {
     "cell_type": "heading",
     "level": 3,
     "metadata": {},
     "source": [
      "Definition of the minimal class in two lines"
     ]
    },
    {
     "cell_type": "heading",
     "level": 4,
     "metadata": {},
     "source": [
      "Define class"
     ]
    },
    {
     "cell_type": "code",
     "collapsed": false,
     "input": [
      "class A():\n",
      "    pass"
     ],
     "language": "python",
     "metadata": {},
     "outputs": [],
     "prompt_number": 1
    },
    {
     "cell_type": "heading",
     "level": 4,
     "metadata": {},
     "source": [
      "Use class"
     ]
    },
    {
     "cell_type": "code",
     "collapsed": false,
     "input": [
      "a = A()    # create an instance of class A\n",
      "print a\n",
      "print type(a)"
     ],
     "language": "python",
     "metadata": {},
     "outputs": [
      {
       "output_type": "stream",
       "stream": "stdout",
       "text": [
        "<__main__.A instance at 0xb4e7ec2c>\n",
        "<type 'instance'>\n"
       ]
      }
     ],
     "prompt_number": 2
    },
    {
     "cell_type": "markdown",
     "metadata": {},
     "source": [
      "********************"
     ]
    },
    {
     "cell_type": "heading",
     "level": 3,
     "metadata": {},
     "source": [
      "\n",
      "\n",
      "\n",
      "\n",
      "\n",
      "\n",
      "\n",
      "Definition of a class with attributes (properties)"
     ]
    },
    {
     "cell_type": "code",
     "collapsed": false,
     "input": [
      "class Human(object):\n",
      "    name = ''\n",
      "    age = 0"
     ],
     "language": "python",
     "metadata": {},
     "outputs": [],
     "prompt_number": 3
    },
    {
     "cell_type": "code",
     "collapsed": false,
     "input": [
      "human1 = Human()          # create instance of Human\n",
      "human1.name = 'Anton'     # name him    (add data to this object)\n",
      "human1.age = 34           # set the age (add data to this object)\n",
      "\n",
      "print type(human1)\n",
      "print human1.name\n",
      "print human1.age"
     ],
     "language": "python",
     "metadata": {},
     "outputs": [
      {
       "output_type": "stream",
       "stream": "stdout",
       "text": [
        "<class '__main__.Human'>\n",
        "Anton\n",
        "34\n"
       ]
      }
     ],
     "prompt_number": 4
    },
    {
     "cell_type": "markdown",
     "metadata": {},
     "source": [
      "*******************"
     ]
    },
    {
     "cell_type": "heading",
     "level": 3,
     "metadata": {},
     "source": [
      "Definition of a class with constructor"
     ]
    },
    {
     "cell_type": "code",
     "collapsed": false,
     "input": [
      "class Human(object):\n",
      "    name = ''\n",
      "    age = 0\n",
      "    \n",
      "    def __init__(self, name):\n",
      "        self.name = name"
     ],
     "language": "python",
     "metadata": {},
     "outputs": [],
     "prompt_number": 5
    },
    {
     "cell_type": "heading",
     "level": 4,
     "metadata": {},
     "source": [
      "Create a Human instance and give him a name instantly"
     ]
    },
    {
     "cell_type": "code",
     "collapsed": false,
     "input": [
      "h1 = Human('Anton')\n",
      "print h1.name\n",
      "print h1.age"
     ],
     "language": "python",
     "metadata": {},
     "outputs": [
      {
       "output_type": "stream",
       "stream": "stdout",
       "text": [
        "Anton\n",
        "0\n"
       ]
      }
     ],
     "prompt_number": 6
    },
    {
     "cell_type": "markdown",
     "metadata": {},
     "source": [
      "********************"
     ]
    },
    {
     "cell_type": "heading",
     "level": 3,
     "metadata": {},
     "source": [
      "Definition of a class with several methods"
     ]
    },
    {
     "cell_type": "code",
     "collapsed": false,
     "input": [
      "class Human(object):\n",
      "    ''' Human being '''\n",
      "    name = ''\n",
      "    age = 0\n",
      "    \n",
      "    def __init__(self, name):\n",
      "        ''' Create a Human '''\n",
      "        self.name = name\n",
      "    \n",
      "    def grow(self):\n",
      "        ''' Grow a Human by one year (in-place) '''\n",
      "        self.age += 1"
     ],
     "language": "python",
     "metadata": {},
     "outputs": [],
     "prompt_number": 7
    },
    {
     "cell_type": "heading",
     "level": 4,
     "metadata": {},
     "source": [
      "Create a Human, give him a name, grow by one year (in-place)"
     ]
    },
    {
     "cell_type": "code",
     "collapsed": false,
     "input": [
      "human1 = Human('Adam')\n",
      "human1.grow()\n",
      "\n",
      "print human1.name\n",
      "print human1.age"
     ],
     "language": "python",
     "metadata": {},
     "outputs": [
      {
       "output_type": "stream",
       "stream": "stdout",
       "text": [
        "Adam\n",
        "1\n"
       ]
      }
     ],
     "prompt_number": 8
    },
    {
     "cell_type": "markdown",
     "metadata": {},
     "source": [
      "****************"
     ]
    },
    {
     "cell_type": "heading",
     "level": 3,
     "metadata": {},
     "source": [
      "Add get_ methods to the class"
     ]
    },
    {
     "cell_type": "code",
     "collapsed": false,
     "input": [
      "class Human(object):\n",
      "    ''' Human being '''\n",
      "    name = ''\n",
      "    age = 0\n",
      "    \n",
      "    def __init__(self, name):\n",
      "        ''' Create a Human '''\n",
      "        self.name = name\n",
      "    \n",
      "    def grow(self):\n",
      "        ''' Grow a Human by one year (in-place) '''\n",
      "        self.age += 1\n",
      "    \n",
      "    def get_name(self):\n",
      "        ''' Return name of a Human '''\n",
      "        return self.name\n",
      "\n",
      "    def get_age(self):\n",
      "        ''' Return name of a Human '''\n",
      "        return self.age"
     ],
     "language": "python",
     "metadata": {},
     "outputs": [],
     "prompt_number": 9
    },
    {
     "cell_type": "code",
     "collapsed": false,
     "input": [
      "h1 = Human('Eva')\n",
      "print h1.get_name()"
     ],
     "language": "python",
     "metadata": {},
     "outputs": [
      {
       "output_type": "stream",
       "stream": "stdout",
       "text": [
        "Eva\n"
       ]
      }
     ],
     "prompt_number": 10
    },
    {
     "cell_type": "markdown",
     "metadata": {},
     "source": [
      "*******************************"
     ]
    },
    {
     "cell_type": "heading",
     "level": 3,
     "metadata": {},
     "source": [
      "Create a class with Inheritance"
     ]
    },
    {
     "cell_type": "code",
     "collapsed": false,
     "input": [
      "class Teacher(Human):\n",
      "    ''' Teacher of Python '''\n",
      "\n",
      "    def give_lecture(self):\n",
      "        ''' Print lecture on the screen ''' \n",
      "        \n",
      "        print 'bla bla bla'"
     ],
     "language": "python",
     "metadata": {},
     "outputs": [],
     "prompt_number": 11
    },
    {
     "cell_type": "heading",
     "level": 4,
     "metadata": {},
     "source": [
      "Create an Teacher with name, grow him sufficiently, use him."
     ]
    },
    {
     "cell_type": "code",
     "collapsed": false,
     "input": [
      "t1 = Teacher('Anton')\n",
      "\n",
      "while t1.get_age() < 34:\n",
      "    t1.grow()\n",
      "\n",
      "print t1.get_name()\n",
      "print t1.get_age()\n",
      "t1.give_lecture()"
     ],
     "language": "python",
     "metadata": {},
     "outputs": [
      {
       "output_type": "stream",
       "stream": "stdout",
       "text": [
        "Anton\n",
        "34\n",
        "bla bla bla\n"
       ]
      }
     ],
     "prompt_number": 12
    },
    {
     "cell_type": "markdown",
     "metadata": {},
     "source": [
      "*******"
     ]
    },
    {
     "cell_type": "heading",
     "level": 2,
     "metadata": {},
     "source": [
      "Import class definition from a module "
     ]
    },
    {
     "cell_type": "markdown",
     "metadata": {},
     "source": [
      "Store class definition in a separate file. E.g.:\n",
      "\n",
      "https://github.com/nansencenter/nansat-lectures/blob/master/human_teacher.py"
     ]
    },
    {
     "cell_type": "code",
     "collapsed": false,
     "input": [
      "from human_teacher import Teacher\n",
      "\n",
      "t1 = Teacher('Morten')\n",
      "t1.give_lecture()"
     ],
     "language": "python",
     "metadata": {},
     "outputs": [
      {
       "output_type": "stream",
       "stream": "stdout",
       "text": [
        "bla bla bla\n"
       ]
      }
     ],
     "prompt_number": 13
    },
    {
     "cell_type": "markdown",
     "metadata": {},
     "source": [
      "***************"
     ]
    },
    {
     "cell_type": "markdown",
     "metadata": {},
     "source": [
      "## Exersize\n",
      "### Create a class for managing data from T/S profile\n",
      "\n",
      "\n",
      "#### The class should: \n",
      "1. Load a H/T/S profile from tsprofile.txt\n",
      "1. Print D/T/S values of all measurements\n",
      "1. Print D/T/S values and depth of measurement a from given point\n",
      "1. Print T/S values for a given depth (linear interpolation)\n",
      "1. Find a mixed layer depth\n",
      "\n",
      "#### Input data\n",
      "'tsprofile.txt' contains three columns of synthetic values: depth (H), temperature (T), salinity (S)\n",
      "\n",
      "\n",
      "https://raw.githubusercontent.com/nansencenter/nansat-lectures/master/tsprofile.txt\n",
      "\n",
      "#### Example usage\n",
      "\n",
      "* profile = Profile(fileName)\n",
      "* allTemperatures = profile.get_all_temperature_values()\n",
      "* t1 = profile.get_temperature_at_point(pointNumber)\n",
      "* t2 = profile.get_temperature_at_depth(depth)\n",
      "* mld = profile.get_mixed_layer_depth(threshold)\n",
      "\n",
      "\n",
      "#### Hints\n",
      "* Add attributes `temperature`, `salinity`, `depth` of type `list`\n",
      "\n",
      "* Use `f = open(fileName)` and `lines = f.readlines()` to read data from file\n",
      "\n",
      "* If you have two measurements of e.g. temperature (t1 and t1) at two depths (d1 and d2) you can linearly interpolate between these values and calculate a temperature (t) at depth (d):\n",
      "\n",
      "`t = t1 + (d - d1) * (t2 - t1) / (d2 - d1)`\n",
      "\n",
      "* Mixed layer can be defined as a layer, where temperature variability do not exceed a predefined threshold (water is relatively homogenous). Therefore to find a mixed layer depth, we need to loop through values of T and identify when the difference beween the value of T at one depth and at the next depth is above a threshold. "
     ]
    },
    {
     "cell_type": "markdown",
     "metadata": {},
     "source": [
      "Get the nansat-lectures course material at Github: 'git clone https://github.com/nansencenter/nansat-lectures'\n",
      "To get stay updated: 'git pull'"
     ]
    },
    {
     "cell_type": "code",
     "collapsed": false,
     "input": [],
     "language": "python",
     "metadata": {},
     "outputs": [],
     "prompt_number": 13
    },
    {
     "cell_type": "code",
     "collapsed": false,
     "input": [],
     "language": "python",
     "metadata": {},
     "outputs": [],
     "prompt_number": 0
    },
    {
     "cell_type": "code",
     "collapsed": false,
     "input": [],
     "language": "python",
     "metadata": {},
     "outputs": []
    }
   ],
   "metadata": {}
  }
 ]
}