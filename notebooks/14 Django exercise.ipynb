{
 "cells": [
  {
   "cell_type": "markdown",
   "metadata": {},
   "source": [
    "# Create your own database and fill it with data\n",
    "#### Log in to the virtual machine using SSH\n",
    "`vagrant ssh couse`\n",
    "#### Add permissions to write to your folder\n",
    "`sudo chown vagrant:vagrant /home/vagrant/mynotebooks -R`\n",
    "\n",
    "#### Go to the shared directory\n",
    "`cd /home/vagrant/mynotebooks`\n",
    "\n",
    "#### Create Django project\n",
    "`django-admin startproject myproj1`\n",
    "\n",
    "`cd myproj1`\n",
    "\n",
    "#### Create first App (place to store your models)\n",
    "`django-admin startapp myapp1`\n",
    "\n",
    "\n",
    "#### Edit notebooks/myproj1/myapp1/models.py\n",
    "\n",
    "#### Define your models"
   ]
  },
  {
   "cell_type": "code",
   "execution_count": 2,
   "metadata": {
    "collapsed": false
   },
   "outputs": [],
   "source": [
    "from django.db import models\n",
    "\n",
    "class Profile(models.Model):\n",
    "    ''' Description of T/S Profile'''\n",
    "    lon = models.FloatField()\n",
    "    lat = models.FloatField()\n",
    "\n",
    "    \n",
    "class Variable(models.Model):\n",
    "    ''' Description of Temperature, Salinity, etc '''\n",
    "    name = models.CharField(max_length=200)\n",
    "    units = models.CharField(max_length=200)\n",
    "\n",
    "    \n",
    "class Measurement(models.Model):\n",
    "    ''' Description of a measurement '''\n",
    "    variable = models.ForeignKey(Variable)\n",
    "    profile = models.ForeignKey(Profile)\n",
    "    depth = models.FloatField()\n",
    "    value = models.FloatField()"
   ]
  },
  {
   "cell_type": "markdown",
   "metadata": {},
   "source": [
    "### Edit `mynotebooks/myproj1/myproj1/settings.py`"
   ]
  },
  {
   "cell_type": "code",
   "execution_count": null,
   "metadata": {
    "collapsed": false
   },
   "outputs": [],
   "source": [
    "INSTALLED_APPS = (\n",
    "    'django.contrib.admin',\n",
    "    'django.contrib.auth',\n",
    "    'django.contrib.contenttypes',\n",
    "    'django.contrib.sessions',\n",
    "    'django.contrib.messages',\n",
    "    'django.contrib.staticfiles',\n",
    "    'myapp1',                        ### ADD THIS LINE. RESPECT SYNTAX!\n",
    ")"
   ]
  },
  {
   "cell_type": "markdown",
   "metadata": {},
   "source": [
    "## Create database\n",
    "```\n",
    "cd ~/mynotebooks/myproj1\n",
    "spatialite db.sqlite3 \"SELECT InitSpatialMetaData();\"\n",
    "\n",
    "```\n",
    "\n",
    "## Migrate your models to your database\n",
    "```\n",
    "./manage.py makemigrations\n",
    "./manage.py migrate\n",
    "```\n",
    "\n",
    "## Use the database in IPython Notebook\n",
    "### Create a Notebook INSIDE `mynotebooks/myproj1`\n",
    "### Start up Django:"
   ]
  },
  {
   "cell_type": "code",
   "execution_count": 2,
   "metadata": {
    "collapsed": false
   },
   "outputs": [
    {
     "name": "stdout",
     "output_type": "stream",
     "text": [
      "None\n",
      "Variable      Type         Data/Info\n",
      "------------------------------------\n",
      "Measurement   ModelBase    <class 'myapp1.models.Measurement'>\n",
      "Profile       ModelBase    <class 'myapp1.models.Profile'>\n",
      "Variable      ModelBase    <class 'myapp1.models.Variable'>\n",
      "django        module       <module 'django' from '/u<...>ges/django/__init__.pyc'>\n",
      "os            module       <module 'os' from '/usr/lib/python2.7/os.pyc'>\n",
      "sys           module       <module 'sys' (built-in)>\n"
     ]
    }
   ],
   "source": [
    "import os, sys\n",
    "print sys.path.append('/home/vagrant/mynotebooks/myproj1/')\n",
    "os.environ.setdefault(\"DJANGO_SETTINGS_MODULE\", \"myproj1.settings\")\n",
    "import django\n",
    "django.setup()\n",
    "\n",
    "from myapp1.models import Profile, Variable, Measurement\n",
    "\n",
    "%whos"
   ]
  },
  {
   "cell_type": "markdown",
   "metadata": {},
   "source": [
    "### Use your models. Create a profile, a variable and a measurement"
   ]
  },
  {
   "cell_type": "code",
   "execution_count": 3,
   "metadata": {
    "collapsed": false
   },
   "outputs": [
    {
     "name": "stdout",
     "output_type": "stream",
     "text": [
      "[<Measurement: Measurement object>, <Measurement: Measurement object>]\n",
      "35.0\n",
      "10.0\n",
      "salinity\n"
     ]
    }
   ],
   "source": [
    "# create profile and add coordinates\n",
    "p = Profile()\n",
    "p.lon = 10\n",
    "p.lat = 20\n",
    "p.save()  # save into database\n",
    "\n",
    "# variable and add name, units\n",
    "v = Variable()\n",
    "v.name='salinity'\n",
    "v.units='psu'\n",
    "v.save()\n",
    "\n",
    "\n",
    "# create a measurement\n",
    "m = Measurement()\n",
    "m.variable = v\n",
    "m.profile = p\n",
    "m.depth = 10\n",
    "m.value = 35\n",
    "m.save()\n",
    "\n",
    "\n",
    "# Use your imagination\n",
    "# Create many more measurements\n",
    "\n",
    "# get all measurements\n",
    "ms = Measurement.objects.all()\n",
    "print ms\n",
    "print ms[0].value\n",
    "print ms[0].profile.lon\n",
    "print ms[0].variable.name\n",
    "\n",
    "# find only salinities\n",
    "salOnly = Measurement.objects.filter(variable__name='salinity')\n",
    "\n",
    "# find only measurements deeper than 5 m\n",
    "deepMes =  Measurement.objects.filter(depth__gte=5)"
   ]
  },
  {
   "cell_type": "code",
   "execution_count": null,
   "metadata": {
    "collapsed": false
   },
   "outputs": [],
   "source": []
  }
 ],
 "metadata": {
  "kernelspec": {
   "display_name": "Python 2",
   "language": "python",
   "name": "python2"
  },
  "language_info": {
   "codemirror_mode": {
    "name": "ipython",
    "version": 2
   },
   "file_extension": ".py",
   "mimetype": "text/x-python",
   "name": "python",
   "nbconvert_exporter": "python",
   "pygments_lexer": "ipython2",
   "version": "2.7.6"
  }
 },
 "nbformat": 4,
 "nbformat_minor": 0
}
